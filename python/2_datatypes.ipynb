{
 "cells": [
  {
   "cell_type": "markdown",
   "metadata": {},
   "source": [
    "# Notebook 2: Data types"
   ]
  },
  {
   "cell_type": "markdown",
   "metadata": {},
   "source": [
    "This notebook will introduce basic Python data types and data structures:\n",
    "-  Numbers (integers, floats, bools)\n",
    "-  Strings\n",
    "-  Lists and Tuples\n",
    "-  Dictionaries\n",
    "\n",
    "Six exercises are given (in two groups of three)."
   ]
  },
  {
   "cell_type": "code",
   "execution_count": null,
   "metadata": {
    "ExecuteTime": {
     "end_time": "2021-09-01T22:46:03.964127Z",
     "start_time": "2021-09-01T22:46:03.669173Z"
    }
   },
   "outputs": [],
   "source": [
    "# Import the usual stuff first\n",
    "import numpy as np\n",
    "import pandas as pd\n",
    "import matplotlib.pyplot as plt        \n",
    "%matplotlib inline"
   ]
  },
  {
   "cell_type": "markdown",
   "metadata": {},
   "source": [
    "## Numbers"
   ]
  },
  {
   "cell_type": "code",
   "execution_count": null,
   "metadata": {
    "ExecuteTime": {
     "end_time": "2021-09-01T22:46:04.651926Z",
     "start_time": "2021-09-01T22:46:04.646159Z"
    }
   },
   "outputs": [],
   "source": [
    "# Integers\n",
    "radius = 2\n",
    "print('radius =', radius)\n",
    "print('radius has type:', type(radius))"
   ]
  },
  {
   "cell_type": "code",
   "execution_count": null,
   "metadata": {
    "ExecuteTime": {
     "end_time": "2021-09-01T22:46:05.156126Z",
     "start_time": "2021-09-01T22:46:05.150790Z"
    }
   },
   "outputs": [],
   "source": [
    "# Floating point numbers\n",
    "print('pi =', np.pi)\n",
    "print('pi has type:', type(np.pi))"
   ]
  },
  {
   "cell_type": "code",
   "execution_count": null,
   "metadata": {
    "ExecuteTime": {
     "end_time": "2021-09-01T22:46:06.073210Z",
     "start_time": "2021-09-01T22:46:06.069746Z"
    }
   },
   "outputs": [],
   "source": [
    "# Powers are computed using **, not ^. Otherwise, math is as you would expect.\n",
    "sphere_volume = (4/3)*np.pi*(radius**3)\n",
    "print('A sphere of radius', radius, 'has volume', sphere_volume)"
   ]
  },
  {
   "cell_type": "code",
   "execution_count": null,
   "metadata": {
    "ExecuteTime": {
     "end_time": "2021-09-01T22:46:06.836207Z",
     "start_time": "2021-09-01T22:46:06.830815Z"
    }
   },
   "outputs": [],
   "source": [
    "# Boolean variables represent quantities that are True or False\n",
    "x = (np.pi == 3)\n",
    "print('pi == 3 is', x)\n",
    "y = (np.pi > 3)\n",
    "print('pi > 3 is', y)\n",
    "z = (np.pi <= 3)\n",
    "print('pi <= 3 is', z)"
   ]
  },
  {
   "cell_type": "markdown",
   "metadata": {},
   "source": [
    "## Strings"
   ]
  },
  {
   "cell_type": "code",
   "execution_count": null,
   "metadata": {
    "ExecuteTime": {
     "end_time": "2021-09-01T22:53:16.417125Z",
     "start_time": "2021-09-01T22:53:16.414175Z"
    }
   },
   "outputs": [],
   "source": [
    "# Strings can be defined using either single or double quotes\n",
    "first_name = 'Barbara'\n",
    "last_name = \"McClintock\"\n",
    "print(first_name, last_name)"
   ]
  },
  {
   "cell_type": "code",
   "execution_count": null,
   "metadata": {
    "ExecuteTime": {
     "end_time": "2021-09-01T22:46:08.361554Z",
     "start_time": "2021-09-01T22:46:08.358168Z"
    }
   },
   "outputs": [],
   "source": [
    "# Multiline strings can be defined using triple quotes (single or double)\n",
    "address = \"\"\"\n",
    "Cold Spring Harbor Laboratory\n",
    "1 Bungtown Rd.\n",
    "Cold Spring Harbor, NY 11724\n",
    "\"\"\"\n",
    "print(address)"
   ]
  },
  {
   "cell_type": "code",
   "execution_count": null,
   "metadata": {
    "ExecuteTime": {
     "end_time": "2021-09-01T22:46:08.793516Z",
     "start_time": "2021-09-01T22:46:08.788885Z"
    }
   },
   "outputs": [],
   "source": [
    "# The '+' sign concatenates strings\n",
    "full_name = last_name + ', ' + first_name\n",
    "print(full_name)"
   ]
  },
  {
   "cell_type": "code",
   "execution_count": null,
   "metadata": {
    "ExecuteTime": {
     "end_time": "2021-09-01T22:46:09.415784Z",
     "start_time": "2021-09-01T22:46:09.408722Z"
    }
   },
   "outputs": [],
   "source": [
    "# It is simple to test if one string is contained within another\n",
    "'Barb' in full_name"
   ]
  },
  {
   "cell_type": "code",
   "execution_count": null,
   "metadata": {
    "ExecuteTime": {
     "end_time": "2021-09-01T22:46:09.891477Z",
     "start_time": "2021-09-01T22:46:09.884302Z"
    }
   },
   "outputs": [],
   "source": [
    "# The len() function tells you the length of a string\n",
    "len(full_name)"
   ]
  },
  {
   "cell_type": "code",
   "execution_count": null,
   "metadata": {
    "ExecuteTime": {
     "end_time": "2021-09-01T22:46:10.395699Z",
     "start_time": "2021-09-01T22:46:10.389540Z"
    }
   },
   "outputs": [],
   "source": [
    "# The contents in a string can be indexed using brackets\n",
    "print('First character:', full_name[0])         # strings are index starting at 0\n",
    "print('Last character:', full_name[-1])         # str[-n] returns the n'th character from the end.\n",
    "print('Characters 5-7:', full_name[5:7])        # str[start:stop]. This is called a 'slice'.\n",
    "print('Every other character:', full_name[::2]) # str[start:stop:stride]\n",
    "print('Reverse the string:', full_name[::-1])    # strings can be reversed using a stride of -1"
   ]
  },
  {
   "cell_type": "code",
   "execution_count": null,
   "metadata": {
    "ExecuteTime": {
     "end_time": "2021-09-01T22:46:11.189222Z",
     "start_time": "2021-09-01T22:46:11.185471Z"
    }
   },
   "outputs": [],
   "source": [
    "# You can convert from an string to an integer ...\n",
    "my_num = int('5')\n",
    "print('my_num =', my_num, '; type is', type(my_num))\n",
    "\n",
    "# ... and from an integer to a string\n",
    "my_str = str(5)\n",
    "print('my_str =', my_str, '; type is', type(my_str))"
   ]
  },
  {
   "cell_type": "markdown",
   "metadata": {},
   "source": [
    "'String formatting' allows strings to be built up from numbers, other strings, etc."
   ]
  },
  {
   "cell_type": "code",
   "execution_count": null,
   "metadata": {
    "ExecuteTime": {
     "end_time": "2021-09-01T22:54:01.851134Z",
     "start_time": "2021-09-01T22:54:01.847010Z"
    }
   },
   "outputs": [],
   "source": [
    "print(f'A float in the default format: {np.pi}')\n",
    "print(f'A float with 3 decimal places: {np.pi:.3f}')\n",
    "print(f'A float in exponential notation: {np.pi:.3e}')\n",
    "\n",
    "i = 3_628_800\n",
    "print(f'An integer, default format: {i:d}')\n",
    "print(f'An integer with commas and sign: {i:+,d}')\n",
    "\n",
    "print(f'Two strings and a number: {first_name} {last_name} loves {np.pi}')"
   ]
  },
  {
   "cell_type": "code",
   "execution_count": null,
   "metadata": {
    "ExecuteTime": {
     "end_time": "2021-09-01T22:54:56.810237Z",
     "start_time": "2021-09-01T22:54:56.804280Z"
    }
   },
   "outputs": [],
   "source": [
    "# The old string formatting method\n",
    "print('An int: %+d'%i)\n",
    "print('A float: %.2f'%np.pi)\n",
    "print('Two strings and a number: %s %s loves %f'%(first_name, last_name, np.pi))"
   ]
  },
  {
   "cell_type": "code",
   "execution_count": null,
   "metadata": {
    "ExecuteTime": {
     "end_time": "2021-09-01T22:55:02.566285Z",
     "start_time": "2021-09-01T22:55:02.558467Z"
    }
   },
   "outputs": [],
   "source": [
    "# Make a string uppercase\n",
    "print(full_name.upper())"
   ]
  },
  {
   "cell_type": "markdown",
   "metadata": {},
   "source": [
    "## Exercises, part 1 of 2"
   ]
  },
  {
   "cell_type": "markdown",
   "metadata": {},
   "source": [
    "Here is the DNA sequence of the multiple cloning site (MCS) on the plasmid [pcDNA5](https://www.addgene.org/vector-database/2132/), a popular vector for mammalian gene expression."
   ]
  },
  {
   "cell_type": "code",
   "execution_count": null,
   "metadata": {
    "ExecuteTime": {
     "end_time": "2021-09-01T22:46:23.089471Z",
     "start_time": "2021-09-01T22:46:23.086437Z"
    }
   },
   "outputs": [],
   "source": [
    "# Note how to define a long string over multiple lines\n",
    "seq = 'GAGACCCAAGCTGGCTAGCGTTTAAACTTAAGCTTGGTACCGAGCTCGGATCCACTA' \\\n",
    "      'GTCCAGTGTGGTGGAATTCTGCAGATATCCAGCACAGTGGCGGCCGCTCGAGTCTAG' \\\n",
    "      'AGGGCCCGTTTAAACCCGCTGATCAGCCT'\n",
    "print(seq)"
   ]
  },
  {
   "cell_type": "markdown",
   "metadata": {},
   "source": [
    "**E2.1**: Does this MCS contain a restriction site for NheI (GCTAGC)? How about for MscI (TGGCCA)? "
   ]
  },
  {
   "cell_type": "code",
   "execution_count": null,
   "metadata": {
    "ExecuteTime": {
     "end_time": "2021-09-01T22:46:24.785105Z",
     "start_time": "2021-09-01T22:46:24.782188Z"
    }
   },
   "outputs": [],
   "source": [
    "# Answer here"
   ]
  },
  {
   "cell_type": "markdown",
   "metadata": {},
   "source": [
    "**E2.2**: Using the string method `.find()`, find the location(s) of the above restriction sites within the MCS. What does `.find()` return when a restriction site isn't in the sequence?"
   ]
  },
  {
   "cell_type": "code",
   "execution_count": null,
   "metadata": {
    "ExecuteTime": {
     "end_time": "2021-09-01T22:46:42.450960Z",
     "start_time": "2021-09-01T22:46:42.447388Z"
    }
   },
   "outputs": [],
   "source": [
    "# Answer here"
   ]
  },
  {
   "cell_type": "markdown",
   "metadata": {},
   "source": [
    "**E2.3**: Using the string method `.replace()`, compute the RNA sequence transcribed from the GFP gene sequence (given below). "
   ]
  },
  {
   "cell_type": "code",
   "execution_count": null,
   "metadata": {
    "ExecuteTime": {
     "end_time": "2021-09-01T22:46:46.857483Z",
     "start_time": "2021-09-01T22:46:46.852843Z"
    }
   },
   "outputs": [],
   "source": [
    "gfp_seq = 'ATGAGTAAAGGAGAAGAACTTTTCACTGGAGTTGTCCCAATTCTTGTTGAATTAGATGGTGATG' \\\n",
    "          'TTAATGGGCACAAATTTTCTGTCAGTGGAGAGGGTGAAGGTGATGCAACATACGGAAAACTTAC' \\\n",
    "          'CCTTAAATTTATTTGCACTACTGGAAAACTACCTGTTCCATGGCCAACACTTGTCACTACTTTC' \\\n",
    "          'GCGTATGGTCTTCAATGCTTTGCGAGATACCCAGATCATATGAAACAGCATGACTTTTTCAAGA' \\\n",
    "          'GTGCCATGCCCGAAGGTTATGTACAGGAAAGAACTATATTTTTCAAAGATGACGGGAACTACAA' \\\n",
    "          'GACACGTGCTGAAGTCAAGTTTGAAGGTGATACCCTTGTTAATAGAATCGAGTTAAAAGGTATT' \\\n",
    "          'GATTTTAAAGAAGATGGAAACATTCTTGGACACAAATTGGAATACAACTATAACTCACACAATG' \\\n",
    "          'TATACATCATGGCAGACAAACAAAAGAATGGAATCAAAGTTAACTTCAAAATTAGACACAACAT' \\\n",
    "          'TGAAGATGGAAGCGTTCAACTAGCAGACCATTATCAACAAAATACTCCAATTGGCGATGGCCCT' \\\n",
    "          'GTCCTTTTACCAGACAACCATTACCTGTCCACACAATCTGCCCTTTCGAAAGATCCCAACGAAA' \\\n",
    "          'AGAGAGACCACATGGTCCTTCTTGAGTTTGTAACAGCTGCTGGGATTACACATGGCATGGATGA' \\\n",
    "          'ACTATACAAATAA'\n",
    "\n",
    "# Answer here"
   ]
  },
  {
   "cell_type": "markdown",
   "metadata": {},
   "source": [
    "## Lists and tuples"
   ]
  },
  {
   "cell_type": "code",
   "execution_count": null,
   "metadata": {
    "ExecuteTime": {
     "end_time": "2021-09-02T12:38:14.238877Z",
     "start_time": "2021-09-02T12:38:14.223074Z"
    }
   },
   "outputs": [],
   "source": [
    "# Define a list using brackets and commas.\n",
    "v = [1, 'two', 3.0, 'four', 5]\n",
    "v"
   ]
  },
  {
   "cell_type": "code",
   "execution_count": null,
   "metadata": {
    "ExecuteTime": {
     "end_time": "2021-09-02T12:38:14.691102Z",
     "start_time": "2021-09-02T12:38:14.685397Z"
    }
   },
   "outputs": [],
   "source": [
    "# Lists can be indexed using brackets just like strings can.\n",
    "print(f'First element: {v[0]}')\n",
    "print(f'Last element: {v[-1]}')\n",
    "print(f'The list reversed: {v[::-1]}')"
   ]
  },
  {
   "cell_type": "code",
   "execution_count": null,
   "metadata": {
    "ExecuteTime": {
     "end_time": "2021-09-02T12:38:16.957514Z",
     "start_time": "2021-09-02T12:38:16.953196Z"
    }
   },
   "outputs": [],
   "source": [
    "# Use 'in' to test whether an element is contained in a list.\n",
    "'four' in v"
   ]
  },
  {
   "cell_type": "code",
   "execution_count": null,
   "metadata": {
    "ExecuteTime": {
     "end_time": "2021-09-02T12:38:17.542995Z",
     "start_time": "2021-09-02T12:38:17.538711Z"
    }
   },
   "outputs": [],
   "source": [
    "# Change an element in a list.\n",
    "print(f'Before: {v}')\n",
    "v[0] = 'one'\n",
    "print(f'After: {v}')"
   ]
  },
  {
   "cell_type": "code",
   "execution_count": null,
   "metadata": {
    "ExecuteTime": {
     "end_time": "2021-09-02T12:38:19.352418Z",
     "start_time": "2021-09-02T12:38:19.346628Z"
    }
   },
   "outputs": [],
   "source": [
    "# Append an element to the end of a list.\n",
    "print(f'Before: {v}')\n",
    "v.append('five')\n",
    "print(f'After: {v}')"
   ]
  },
  {
   "cell_type": "code",
   "execution_count": null,
   "metadata": {
    "ExecuteTime": {
     "end_time": "2021-09-01T22:56:58.616393Z",
     "start_time": "2021-09-01T22:56:58.604427Z"
    }
   },
   "outputs": [],
   "source": [
    "# You get an error if you try to access an index that doesn't exist.\n",
    "v[10]"
   ]
  },
  {
   "cell_type": "code",
   "execution_count": null,
   "metadata": {
    "ExecuteTime": {
     "end_time": "2021-09-01T22:56:58.845376Z",
     "start_time": "2021-09-01T22:56:58.834400Z"
    }
   },
   "outputs": [],
   "source": [
    "# You also get an error if you pass a non-integer as an index.\n",
    "v[4.0]"
   ]
  },
  {
   "cell_type": "code",
   "execution_count": null,
   "metadata": {
    "ExecuteTime": {
     "end_time": "2021-09-01T22:57:01.572059Z",
     "start_time": "2021-09-01T22:57:01.567640Z"
    }
   },
   "outputs": [],
   "source": [
    "# To create a list of numbers from 0 to n, use list(range(n))\n",
    "v = list(range(10))\n",
    "v"
   ]
  },
  {
   "cell_type": "code",
   "execution_count": null,
   "metadata": {
    "ExecuteTime": {
     "end_time": "2021-09-01T22:57:02.828650Z",
     "start_time": "2021-09-01T22:57:02.825018Z"
    }
   },
   "outputs": [],
   "source": [
    "# Sort a list of numbers\n",
    "v = [0,2,4,6,8,1,3,5,7,9]\n",
    "print(f'Before sorting: {v}')\n",
    "v.sort()\n",
    "print(f'After sorting: {v}')"
   ]
  },
  {
   "cell_type": "code",
   "execution_count": null,
   "metadata": {
    "ExecuteTime": {
     "end_time": "2021-09-01T22:57:04.622166Z",
     "start_time": "2021-09-01T22:57:04.618094Z"
    }
   },
   "outputs": [],
   "source": [
    "# Tuples are like lists, though they are defined using parentheses instead of brackets.\n",
    "# Functions often pass tuples (not lists) back to the user.\n",
    "t = (0, 1, 2, 3, 4)\n",
    "print(t)"
   ]
  },
  {
   "cell_type": "code",
   "execution_count": null,
   "metadata": {
    "ExecuteTime": {
     "end_time": "2021-09-01T22:57:04.834168Z",
     "start_time": "2021-09-01T22:57:04.822628Z"
    }
   },
   "outputs": [],
   "source": [
    "# The key difference is that, while lists are \"mutable\", tuples are \"immutable\"\n",
    "# i.e., you cannot change an element in a tuple after it has been created.\n",
    "t[3] = 5"
   ]
  },
  {
   "cell_type": "code",
   "execution_count": null,
   "metadata": {
    "ExecuteTime": {
     "end_time": "2021-09-01T22:57:07.877982Z",
     "start_time": "2021-09-01T22:57:07.874918Z"
    }
   },
   "outputs": [],
   "source": [
    "# You can join multiple strings together, separating them with a specified character,\n",
    "# using the .join() string method\n",
    "v = [\"Dr.\", \"Barbara\", \"McClintock\"]\n",
    "s = ' '.join(v)\n",
    "print(s)"
   ]
  },
  {
   "cell_type": "code",
   "execution_count": null,
   "metadata": {
    "ExecuteTime": {
     "end_time": "2021-09-01T22:57:08.621866Z",
     "start_time": "2021-09-01T22:57:08.617246Z"
    }
   },
   "outputs": [],
   "source": [
    "# Use the split() string method to chop a string into a list at a specific character\n",
    "s = 'github.com/jkinney/github/21_qbbootcamp/2_datatypes.ipynb'\n",
    "v = s.split('/')\n",
    "v"
   ]
  },
  {
   "cell_type": "markdown",
   "metadata": {},
   "source": [
    "## Dictionaries"
   ]
  },
  {
   "cell_type": "markdown",
   "metadata": {},
   "source": [
    "Dictionaries are one of Python's most useful datatypes. They can be thought of as a list of key-value pairs that allow values to be rapidly looked up via keys. Keys can be any (immutable) variable. Values can be anything."
   ]
  },
  {
   "cell_type": "code",
   "execution_count": null,
   "metadata": {
    "ExecuteTime": {
     "end_time": "2021-09-01T22:57:10.181368Z",
     "start_time": "2021-09-01T22:57:10.177342Z"
    }
   },
   "outputs": [],
   "source": [
    "# Dictionaries are defined using braces, colons, and commas\n",
    "d = {'first':'Eleanor', 'last':'McClintock'}\n",
    "print(d)"
   ]
  },
  {
   "cell_type": "code",
   "execution_count": null,
   "metadata": {
    "ExecuteTime": {
     "end_time": "2021-09-01T22:57:10.659759Z",
     "start_time": "2021-09-01T22:57:10.654439Z"
    }
   },
   "outputs": [],
   "source": [
    "# Access dictionary elements using a \"key\" enclosed in brackets\n",
    "print(d['first'])"
   ]
  },
  {
   "cell_type": "code",
   "execution_count": null,
   "metadata": {
    "ExecuteTime": {
     "end_time": "2021-09-01T22:57:11.749384Z",
     "start_time": "2021-09-01T22:57:11.746124Z"
    }
   },
   "outputs": [],
   "source": [
    "# You can replace and add elements to a dictionary after it is created.\n",
    "d['first'] = 'Barbara'\n",
    "d['title'] = 'Dr.'\n",
    "print(d)"
   ]
  },
  {
   "cell_type": "code",
   "execution_count": null,
   "metadata": {
    "ExecuteTime": {
     "end_time": "2021-09-01T22:57:24.941054Z",
     "start_time": "2021-09-01T22:57:24.937714Z"
    }
   },
   "outputs": [],
   "source": [
    "# From a dictionary, you can get a list of both the keys and the values.\n",
    "keys = list(d.keys())\n",
    "print(f'keys: {keys}')\n",
    "\n",
    "values = list(d.values())\n",
    "print(f'values: {values}')"
   ]
  },
  {
   "cell_type": "code",
   "execution_count": null,
   "metadata": {
    "ExecuteTime": {
     "end_time": "2021-09-01T22:57:27.348659Z",
     "start_time": "2021-09-01T22:57:27.337536Z"
    }
   },
   "outputs": [],
   "source": [
    "#If you pass a key that doesn't exist, you get an error.\n",
    "d['middle']"
   ]
  },
  {
   "cell_type": "code",
   "execution_count": null,
   "metadata": {
    "ExecuteTime": {
     "end_time": "2021-09-01T22:57:30.856605Z",
     "start_time": "2021-09-01T22:57:30.852734Z"
    }
   },
   "outputs": [],
   "source": [
    "# It is sometimes useful to get a default value instead of an error when a key doesn't exist\n",
    "d.get('middle','')    "
   ]
  },
  {
   "cell_type": "code",
   "execution_count": null,
   "metadata": {
    "ExecuteTime": {
     "end_time": "2021-09-01T22:57:31.397184Z",
     "start_time": "2021-09-01T22:57:31.393436Z"
    }
   },
   "outputs": [],
   "source": [
    "# You can create a dictionary from a list of keys and values by using 'dict' and 'zip'\n",
    "values = ['Dr.','Barbara','McClintock']\n",
    "keys = ['title','first','last'] \n",
    "new_dict = dict(zip(keys, values))\n",
    "print(new_dict)"
   ]
  },
  {
   "cell_type": "markdown",
   "metadata": {
    "collapsed": true
   },
   "source": [
    "## Exercises, part 2 of 2"
   ]
  },
  {
   "cell_type": "markdown",
   "metadata": {},
   "source": [
    "**E2.4**: Create a dictionary called `rc_dict` that maps DNA bases to their complementary bases. I.e., A -> T, C -> G, etc.. Then use `str.maketrans()` to convert this to a \"translation table\" named `rc_table`."
   ]
  },
  {
   "cell_type": "code",
   "execution_count": null,
   "metadata": {
    "ExecuteTime": {
     "end_time": "2021-09-01T22:47:22.817402Z",
     "start_time": "2021-09-01T22:47:22.814993Z"
    }
   },
   "outputs": [],
   "source": [
    "# Answer here"
   ]
  },
  {
   "cell_type": "markdown",
   "metadata": {},
   "source": [
    "**E2.5**: By passing `rc_table` to the string method `.translate()`, then using indexing with a step of -1, compute the reverse complement of the MCS sequence given above."
   ]
  },
  {
   "cell_type": "code",
   "execution_count": null,
   "metadata": {
    "ExecuteTime": {
     "end_time": "2021-09-01T22:47:23.937954Z",
     "start_time": "2021-09-01T22:47:23.933838Z"
    }
   },
   "outputs": [],
   "source": [
    "# Answer here"
   ]
  },
  {
   "cell_type": "markdown",
   "metadata": {},
   "source": [
    "**E2.6**: We have not yet discussed sets. Using Google, figure out what `set` objects are and explain what they represent. In particular, explain why Python evaluates {2,3,3} < {1,2,3} as True."
   ]
  },
  {
   "cell_type": "code",
   "execution_count": null,
   "metadata": {},
   "outputs": [],
   "source": [
    "# Answer here"
   ]
  }
 ],
 "metadata": {
  "kernelspec": {
   "display_name": "Python 3",
   "language": "python",
   "name": "python3"
  },
  "language_info": {
   "codemirror_mode": {
    "name": "ipython",
    "version": 3
   },
   "file_extension": ".py",
   "mimetype": "text/x-python",
   "name": "python",
   "nbconvert_exporter": "python",
   "pygments_lexer": "ipython3",
   "version": "3.9.2"
  },
  "varInspector": {
   "cols": {
    "lenName": 16,
    "lenType": 16,
    "lenVar": 40
   },
   "kernels_config": {
    "python": {
     "delete_cmd_postfix": "",
     "delete_cmd_prefix": "del ",
     "library": "var_list.py",
     "varRefreshCmd": "print(var_dic_list())"
    },
    "r": {
     "delete_cmd_postfix": ") ",
     "delete_cmd_prefix": "rm(",
     "library": "var_list.r",
     "varRefreshCmd": "cat(var_dic_list()) "
    }
   },
   "types_to_exclude": [
    "module",
    "function",
    "builtin_function_or_method",
    "instance",
    "_Feature"
   ],
   "window_display": false
  }
 },
 "nbformat": 4,
 "nbformat_minor": 1
}

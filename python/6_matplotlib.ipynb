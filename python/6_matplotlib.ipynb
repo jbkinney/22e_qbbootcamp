{
 "cells": [
  {
   "cell_type": "markdown",
   "metadata": {},
   "source": [
    "# Notebook 6: Matplotlib"
   ]
  },
  {
   "cell_type": "markdown",
   "metadata": {},
   "source": [
    "Here we gain more experience with the Matplotlib plotting library. We will do so in the context of analyzing data from the famous Iris dataset (collected by Edgar Anderson) described in RA Fisher's 1936 work:\n",
    "\n",
    "`R. A. Fisher (1936). \"The use of multiple measurements in taxonomic problems\". Annals of Eugenics. 7 (2): 179–188. `"
   ]
  },
  {
   "cell_type": "code",
   "execution_count": null,
   "metadata": {
    "ExecuteTime": {
     "end_time": "2022-08-31T17:45:23.574446Z",
     "start_time": "2022-08-31T17:45:23.558818Z"
    }
   },
   "outputs": [],
   "source": [
    "# Load standard libraries\n",
    "import seaborn as sns\n",
    "import numpy as np\n",
    "import matplotlib.pyplot as plt\n",
    "import matplotlib as mpl\n",
    "%matplotlib inline\n",
    "\n",
    "# Set seaborn plotting style style\n",
    "sns.set_style('ticks')"
   ]
  },
  {
   "cell_type": "code",
   "execution_count": null,
   "metadata": {
    "ExecuteTime": {
     "end_time": "2022-08-31T17:45:24.014799Z",
     "start_time": "2022-08-31T17:45:23.991764Z"
    }
   },
   "outputs": [],
   "source": [
    "# Load Iris data and preview it\n",
    "df = sns.load_dataset('iris')\n",
    "df.head()"
   ]
  },
  {
   "cell_type": "code",
   "execution_count": null,
   "metadata": {
    "ExecuteTime": {
     "end_time": "2022-08-31T17:45:24.495759Z",
     "start_time": "2022-08-31T17:45:24.489918Z"
    }
   },
   "outputs": [],
   "source": [
    "# Display the number of entries for each species\n",
    "df['species'].value_counts()"
   ]
  },
  {
   "cell_type": "code",
   "execution_count": null,
   "metadata": {
    "ExecuteTime": {
     "end_time": "2022-08-31T17:45:24.857046Z",
     "start_time": "2022-08-31T17:45:24.852024Z"
    }
   },
   "outputs": [],
   "source": [
    "# Get rows for species setosa\n",
    "rows = (df['species']=='setosa')"
   ]
  },
  {
   "cell_type": "code",
   "execution_count": null,
   "metadata": {
    "ExecuteTime": {
     "end_time": "2022-08-31T17:45:25.280557Z",
     "start_time": "2022-08-31T17:45:25.275420Z"
    }
   },
   "outputs": [],
   "source": [
    "# Extract sepal lengths and widths for setosa\n",
    "lengths = df.loc[rows, 'sepal_length'].values\n",
    "widths = df.loc[rows, 'sepal_width'].values"
   ]
  },
  {
   "cell_type": "code",
   "execution_count": null,
   "metadata": {
    "ExecuteTime": {
     "end_time": "2022-08-31T17:45:25.813173Z",
     "start_time": "2022-08-31T17:45:25.718072Z"
    }
   },
   "outputs": [],
   "source": [
    "# To create a simple scatter plot, use plt.scatter\n",
    "plt.scatter(x=widths, y=lengths)"
   ]
  },
  {
   "cell_type": "markdown",
   "metadata": {},
   "source": [
    "We encounter a slight visualization problem here: not all the data points have unique values. One way to deal with overlapping data points is to decrease the opacity. We can set opacity to 50% by using `alpha=.5` as a keyword argument in `plt.scatter()`."
   ]
  },
  {
   "cell_type": "code",
   "execution_count": null,
   "metadata": {
    "ExecuteTime": {
     "end_time": "2022-08-31T17:45:26.689628Z",
     "start_time": "2022-08-31T17:45:26.569792Z"
    }
   },
   "outputs": [],
   "source": [
    "# Reduce opacity\n",
    "plt.scatter(x=widths, y=lengths, alpha=.5)"
   ]
  },
  {
   "cell_type": "markdown",
   "metadata": {},
   "source": [
    "Another common strategy is to add a little bit of \"jitter\" to each data point."
   ]
  },
  {
   "cell_type": "code",
   "execution_count": null,
   "metadata": {
    "ExecuteTime": {
     "end_time": "2022-08-31T17:45:27.798213Z",
     "start_time": "2022-08-31T17:45:27.698746Z"
    }
   },
   "outputs": [],
   "source": [
    "# Define a function to add some jitter to each data point\n",
    "def jitter(vec, sigma):\n",
    "    \"Adds a normal random number with std sigma to each entry of the np.array vec\"\n",
    "    return vec + sigma*np.random.randn(len(vec))\n",
    "\n",
    "# Add a little bit of jitter to each data point\n",
    "sigma = .05\n",
    "widths_j = jitter(widths, sigma)\n",
    "lengths_j = jitter(lengths, sigma)\n",
    "\n",
    "# Plot the jittered data\n",
    "plt.scatter(x=widths_j, y=lengths_j, alpha=.5)"
   ]
  },
  {
   "cell_type": "markdown",
   "metadata": {},
   "source": [
    "Now that we know what to plot, we can begin to style the figure more to our liking."
   ]
  },
  {
   "cell_type": "code",
   "execution_count": null,
   "metadata": {
    "ExecuteTime": {
     "end_time": "2022-08-31T17:45:29.227302Z",
     "start_time": "2022-08-31T17:45:28.925494Z"
    }
   },
   "outputs": [],
   "source": [
    "# Create a figure on which to draw \n",
    "fig, ax = plt.subplots(figsize=[3,3])\n",
    "\n",
    "# Draw points\n",
    "ax.scatter(x=widths_j,              \n",
    "           y=lengths_j, \n",
    "           alpha=.5,             # Opacity   \n",
    "           marker='o',           # Marker shape\n",
    "           s=30,                 # Marker size\n",
    "           color='C0',           # Marker color\n",
    "           linewidths=0)         # Removes boundary from marker\n",
    "\n",
    "# Set the x and y labels\n",
    "ax.set_xlabel('sepal width (cm)', fontsize=10)\n",
    "ax.set_ylabel('sepal length (cm)', fontsize=10)\n",
    "\n",
    "# Set the xlims and ylims\n",
    "ax.set_xlim([2,5])\n",
    "ax.set_ylim([3.5,6.5])\n",
    "\n",
    "# Set xticks and yticks\n",
    "ax.set_xticks([2,3,4,5])\n",
    "ax.set_yticks([4,5,6])\n",
    "\n",
    "# Make a title\n",
    "ax.set_title('species: setosa', fontsize=10)\n",
    "\n",
    "# Make sure labels don't get pushed off plot\n",
    "plt.tight_layout()\n",
    "\n",
    "# Save figure\n",
    "file_name = '6_matplotlib_1.pdf'\n",
    "fig.savefig(file_name)\n",
    "\n",
    "# Check that figure indeed saved\n",
    "!open $file_name"
   ]
  },
  {
   "cell_type": "markdown",
   "metadata": {},
   "source": [
    "We can plot data from other species in different colors by adding a `for` loop."
   ]
  },
  {
   "cell_type": "code",
   "execution_count": null,
   "metadata": {
    "ExecuteTime": {
     "end_time": "2022-08-31T17:45:33.832022Z",
     "start_time": "2022-08-31T17:45:33.514538Z"
    }
   },
   "outputs": [],
   "source": [
    "# Create a figure on which to draw this\n",
    "fig, ax = plt.subplots(figsize=[4,4])\n",
    "\n",
    "# Get a list of the three species\n",
    "species = df['species'].unique()\n",
    "print(\"Iterating over the species:\", species)\n",
    "\n",
    "# For each species...\n",
    "for i, s in enumerate(species):\n",
    "\n",
    "    # Get rows of dataframe specific to that species\n",
    "    rows = (df['species']==s)\n",
    "\n",
    "    # Extract sepal lengths and widths\n",
    "    lengths = df.loc[rows, 'sepal_length'].values\n",
    "    widths = df.loc[rows, 'sepal_width'].values\n",
    "    \n",
    "    # Add jitter\n",
    "    lengths_j = jitter(lengths, sigma)\n",
    "    widths_j = jitter(widths, sigma)\n",
    "\n",
    "    # Draw points (color is automatically changed in each iteration)\n",
    "    ax.scatter(x=widths_j,              \n",
    "               y=lengths_j,\n",
    "               label=s,              # For legend\n",
    "               alpha=.5,             # Opacity   \n",
    "               marker='o',           # Marker shape\n",
    "               s=50,                 # Marker size\n",
    "               linewidths=0)         # Removes boundary from marker\n",
    "\n",
    "    # Set the x and y labels\n",
    "    ax.set_xlabel('sepal width (cm)', fontsize=10)\n",
    "    ax.set_ylabel('sepal length (cm)', fontsize=10)\n",
    "\n",
    "# Adjust lims\n",
    "ax.set_xlim([1.75, 5.75])\n",
    "ax.set_ylim([4, 8])\n",
    "\n",
    "# Set xticks and yticks\n",
    "ax.set_xticks([2,3,4,5])\n",
    "ax.set_yticks([4,5,6,7,8])\n",
    "    \n",
    "# Create legend\n",
    "ax.legend(loc='lower right')\n",
    "    \n",
    "# Make sure labels don't get pushed off plot\n",
    "plt.tight_layout()\n",
    "\n",
    "# Save figure\n",
    "file_name = '6_matplotlib_2.pdf'\n",
    "fig.savefig(file_name)\n",
    "\n",
    "# Check that figure indeed saved\n",
    "!open $file_name"
   ]
  },
  {
   "cell_type": "markdown",
   "metadata": {},
   "source": [
    "We can instead create a figure containing three panels, one for each species."
   ]
  },
  {
   "cell_type": "code",
   "execution_count": null,
   "metadata": {
    "ExecuteTime": {
     "end_time": "2022-08-31T17:45:36.930431Z",
     "start_time": "2022-08-31T17:45:36.536799Z"
    }
   },
   "outputs": [],
   "source": [
    "# Create a 3-panel figure\n",
    "fig, axs = plt.subplots(nrows=1,ncols=3,figsize=[8,3])\n",
    "\n",
    "# Define dot colors to use\n",
    "colors = ['C0','C1','C2']\n",
    "\n",
    "# Iterate over species\n",
    "species = df['species'].unique()\n",
    "for i, s in enumerate(species):\n",
    "    \n",
    "    # Get rows specific to species\n",
    "    rows = (df['species']==s)\n",
    "\n",
    "    # Extract sepal lengths and widths\n",
    "    lengths = df.loc[rows, 'sepal_length'].values\n",
    "    widths = df.loc[rows, 'sepal_width'].values\n",
    "    \n",
    "    # Add jitter\n",
    "    lengths_j = jitter(lengths, 0.05)\n",
    "    widths_j = jitter(widths, 0.05)\n",
    "    \n",
    "    # Choose Axes object from axs array\n",
    "    ax = axs[i]\n",
    "    \n",
    "    # Draw points (manually setting color)\n",
    "    ax.scatter(x=widths_j,              \n",
    "               y=lengths_j, \n",
    "               alpha=.5,             # Opacity   \n",
    "               marker='o',           # Marker shape\n",
    "               s=50,                 # Marker size\n",
    "               color=colors[i],      # Marker color\n",
    "               linewidths=0)         # Removes boundary from marker\n",
    "\n",
    "    # Set the x and y labels\n",
    "    ax.set_xlabel('sepal width (cm)', fontsize=10)\n",
    "    ax.set_ylabel('sepal length (cm)', fontsize=10)\n",
    "    \n",
    "    # Make a title\n",
    "    ax.set_title('species: %s'%s, fontsize=10)\n",
    "    \n",
    "# Make sure labels don't get pushed off plot\n",
    "plt.tight_layout()\n",
    "\n",
    "# Label panels\n",
    "fig.text(x=.01, y=.99, s='(A)', horizontalalignment='left', verticalalignment='top', fontsize=12)\n",
    "fig.text(x=.35, y=.99, s='(B)', horizontalalignment='left', verticalalignment='top', fontsize=12)\n",
    "fig.text(x=.67, y=.99, s='(C)', horizontalalignment='left', verticalalignment='top', fontsize=12)\n",
    "\n",
    "# Save figure\n",
    "file_name = '6_matplotlib_3.pdf'\n",
    "fig.savefig(file_name)\n",
    "\n",
    "# Check written file\n",
    "! open $file_name"
   ]
  },
  {
   "cell_type": "markdown",
   "metadata": {},
   "source": [
    "## Exercise"
   ]
  },
  {
   "cell_type": "markdown",
   "metadata": {},
   "source": [
    "**E6.1** By specifying `sharey=True` and `sharex=True` in `plt.subplots()`, and by conditioning `ax.set_ylabel()` on `i==1`, make all three panels use the same y-axis. You might also want to increase the spacing between plots by specifying `w_pad=3` in `fig.tight_layout()`."
   ]
  },
  {
   "cell_type": "code",
   "execution_count": null,
   "metadata": {
    "ExecuteTime": {
     "end_time": "2022-08-31T14:46:23.982733Z",
     "start_time": "2022-08-31T14:46:23.981129Z"
    }
   },
   "outputs": [],
   "source": [
    "# Answer here"
   ]
  }
 ],
 "metadata": {
  "kernelspec": {
   "display_name": "Python 3",
   "language": "python",
   "name": "python3"
  },
  "language_info": {
   "codemirror_mode": {
    "name": "ipython",
    "version": 3
   },
   "file_extension": ".py",
   "mimetype": "text/x-python",
   "name": "python",
   "nbconvert_exporter": "python",
   "pygments_lexer": "ipython3",
   "version": "3.9.2"
  },
  "varInspector": {
   "cols": {
    "lenName": 16,
    "lenType": 16,
    "lenVar": 40
   },
   "kernels_config": {
    "python": {
     "delete_cmd_postfix": "",
     "delete_cmd_prefix": "del ",
     "library": "var_list.py",
     "varRefreshCmd": "print(var_dic_list())"
    },
    "r": {
     "delete_cmd_postfix": ") ",
     "delete_cmd_prefix": "rm(",
     "library": "var_list.r",
     "varRefreshCmd": "cat(var_dic_list()) "
    }
   },
   "types_to_exclude": [
    "module",
    "function",
    "builtin_function_or_method",
    "instance",
    "_Feature"
   ],
   "window_display": false
  }
 },
 "nbformat": 4,
 "nbformat_minor": 2
}

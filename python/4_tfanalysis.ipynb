{
 "cells": [
  {
   "cell_type": "markdown",
   "metadata": {},
   "source": [
    "# Notebook 4: Pandas and TF binding site analysis"
   ]
  },
  {
   "cell_type": "markdown",
   "metadata": {},
   "source": [
    "Here we will start using Pandas. Pandas is the standard way of working with columnar data in Python. However, there is a substantial learning curve. If you want to learn more about Pandas, here is a useful site: http://pandas.pydata.org/"
   ]
  },
  {
   "cell_type": "markdown",
   "metadata": {},
   "source": [
    "Here we will use Pandas to analyze transcription factor (TF) binding sites from *Escherichia coli*. We will first focus on CRP, a major regulator in *E. coli* with over 350 functional binding sites.  "
   ]
  },
  {
   "cell_type": "markdown",
   "metadata": {},
   "source": [
    "## Part 1"
   ]
  },
  {
   "cell_type": "code",
   "execution_count": 1,
   "metadata": {
    "ExecuteTime": {
     "end_time": "2022-08-30T19:16:47.014491Z",
     "start_time": "2022-08-30T19:16:46.158549Z"
    }
   },
   "outputs": [],
   "source": [
    "# Put this first\n",
    "import numpy as np\n",
    "import pandas as pd\n",
    "import matplotlib.pyplot as plt\n",
    "%matplotlib inline\n",
    "\n",
    "# Import logomaker; we will use this later for visualizing TF motifs.\n",
    "import logomaker "
   ]
  },
  {
   "cell_type": "code",
   "execution_count": 3,
   "metadata": {
    "ExecuteTime": {
     "end_time": "2022-08-30T19:19:50.910525Z",
     "start_time": "2022-08-30T19:19:49.764784Z"
    }
   },
   "outputs": [
    {
     "name": "stdout",
     "output_type": "stream",
     "text": [
      "  % Total    % Received % Xferd  Average Speed   Time    Time     Time  Current\n",
      "                                 Dload  Upload   Total   Spent    Left  Speed\n",
      "100  959k  100  959k    0     0   962k      0 --:--:-- --:--:-- --:--:--  966k\n"
     ]
    }
   ],
   "source": [
    "# We will be analyzing a standing database of TF binding sites, which is available on RegulonDB. \n",
    "# Here is a command for downloading this file\n",
    "!curl \"http://regulondb.ccg.unam.mx/menu/download/datasets/files/BindingSiteSet.txt\" -o BindingSiteSet.txt"
   ]
  },
  {
   "cell_type": "code",
   "execution_count": 4,
   "metadata": {
    "ExecuteTime": {
     "end_time": "2022-08-30T19:21:13.291970Z",
     "start_time": "2022-08-30T19:21:13.160687Z"
    }
   },
   "outputs": [
    {
     "name": "stdout",
     "output_type": "stream",
     "text": [
      "# Copies and Copyright-Notice\r\n",
      "#\r\n",
      "#      RegulonDB is free for academic/noncommercial use\r\n",
      "#\r\n",
      "#      User is not entitled to change or erase data sets of the RegulonDB\r\n",
      "#      database or to eliminate copyright notices from RegulonDB. Furthermore,\r\n",
      "#      User is not entitled to expand RegulonDB or to integrate RegulonDB partly\r\n",
      "#      or as a whole into other databank systems, without prior written consent\r\n",
      "#      from CCG-UNAM.\r\n",
      "#\r\n",
      "#      Please check the license at http://regulondb.ccg.unam.mx/menu/download/full_version/terms_and_conditions.jsp\r\n",
      "#\r\n",
      "# Citation\r\n",
      "#\r\n",
      "#      Santos-Zavaleta A et al. (2019). \"RegulonDB v 10.5: tackling challenges to unify classic and high throughput knowledge of gene regulation in E. coli K-12.\",\r\n",
      "#      Nucleic Acids Res. 2019 Jan 8;47(D1):D212-D220. doi: 10.1093/nar/gky1077.\r\n",
      "#\r\n",
      "#\r\n",
      "# Contact\r\n",
      "#\r\n",
      "#      Person: RegulonDB Team\r\n",
      "#      Web Page: http://regulondb.ccg.unam.mx/menu/about_regulondb/contact_us/index.jsp\r\n",
      "#          (regulondb@ccg.unam.mx)\r\n",
      "#\r\n",
      "#\r\n",
      "# Release: 10.6 Date: 7-26-2019\r\n",
      "# Genome version: U00096.3, Refseq version: NC_000913.3; GI:556503834\r\n",
      "# ___________________________________________________________________________\r\n",
      "# Columns:\r\n",
      "# (1) Transcription Factor (TF) identifier assigned by RegulonDB\r\n",
      "# (2) TF name\r\n",
      "# (3) TF binding site (TF-bs) identifier assigned by RegulonDB \r\n",
      "# (4) TF-bs left end position in the genome \r\n",
      "# (5) TF-bs right end position in the genome\r\n",
      "# (6) DNA strand where the  TF-bs is located\r\n",
      "# (7) TF-Gene interaction identifier assigned by RegulonDB (related to the \"TF gene interactions\" file) \r\n",
      "# (8) Transcription unit regulated by the TF\r\n",
      "# (9) Gene expression effect caused by the TF bound to the  TF-bs (+ activation, - repression, +- dual, ? unknown)\r\n",
      "# (10) Promoter name\r\n",
      "# (11) Center position of TF-bs, relative to Transcription Start Site\r\n",
      "# (12) TF-bs sequence (upper case)\r\n",
      "# (13) Evidence that supports the existence of the TF-bs\r\n",
      "# (14) Evidence confidence level (Confirmed, Strong, Weak)\r\n",
      "ECK120015994\tAcrR\tECK125258528\t485709\t485732\treverse\tECK120033472\tacrAB\t-\tacrAp\t-22.5\tgcgttagattTACATACATTTGTGAATGTATGTAccatagcacg\t[BCE|W|Binding of cellular extracts],[GEA|W|Gene expression analysis],[BPP|S|Binding of purified proteins],[HIBSCS|W|Human inference based on similarity to consensus sequences]\tStrong\r\n",
      "ECK120015994\tAcrR\tECK125258528\t485709\t485732\tforward\tECK125134945\tacrR\t-\tacrRp\t22.5\tcgtgctatggTACATACATTCACAAATGTATGTAaatctaacgc\t[BCE|W|Binding of cellular extracts],[GEA|W|Gene expression analysis],[AIBSCS|W|Automated inference based on similarity to consensus sequences],[BPP|S|Binding of purified proteins],[HIBSCS|W|Human inference based on similarity to consensus sequences]\tStrong\r\n",
      "ECK120015994\tAcrR\tECK125202663\t1619048\t1619058\tforward\tECK125202664\tmarRAB\t-\tmarRp\t-40.5\tcatcggtcaaTTCATTCATTTgacttatact\t[GEA|W|Gene expression analysis],[BPP|S|Binding of purified proteins],[HIBSCS|W|Human inference based on similarity to consensus sequences]\tStrong\r\n",
      "ECK120015994\tAcrR\tECK125242724\t1978422\t1978432\treverse\tECK125242725\tflhDC\t-\tflhDp\t-31.5\tagcccccctcCGTTGTATGTGcgtgtagtga\t[GEA|W|Gene expression analysis],[HIBSCS|W|Human inference based on similarity to consensus sequences]\tWeak\r\n",
      "ECK120015994\tAcrR\tECK120035040\t2313112\t2313135\tforward\tECK120035041\tmicF\t-\tmicFp\t41\tatttattaccGTCATTCATTTCTGAATGTCTGTTtacccctatt\t[AIBSCS|W|Automated inference based on similarity to consensus sequences]\tWeak\r\n",
      "ECK120015994\tAcrR\tECK125202665\t4277444\t4277454\tforward\tECK125202666\tsoxR\t-\tsoxRp\t2.5\tataattcctcAAGTTAACTTGaggtaaagcg\t[GEA|W|Gene expression analysis],[BPP|S|Binding of purified proteins],[HIBSCS|W|Human inference based on similarity to consensus sequences]\tStrong\r\n",
      "ECK120015994\tAcrR\tECK125202665\t4277444\t4277454\treverse\tECK125202667\tsoxS\t-\tsoxSp\t-25.5\tcgctttacctCAAGTTAACTTgaggaattat\t[GEA|W|Gene expression analysis],[BPP|S|Binding of purified proteins],[HIBSCS|W|Human inference based on similarity to consensus sequences]\tStrong\r\n"
     ]
    }
   ],
   "source": [
    "# Let's see what this database looks like\n",
    "!head -n 50 old_BindingSiteSet.txt"
   ]
  },
  {
   "cell_type": "code",
   "execution_count": 5,
   "metadata": {
    "ExecuteTime": {
     "end_time": "2022-08-30T19:25:37.076700Z",
     "start_time": "2022-08-30T19:25:37.034123Z"
    }
   },
   "outputs": [
    {
     "name": "stdout",
     "output_type": "stream",
     "text": [
      "<class 'pandas.core.frame.DataFrame'>\n"
     ]
    },
    {
     "data": {
      "text/html": [
       "<div>\n",
       "<style scoped>\n",
       "    .dataframe tbody tr th:only-of-type {\n",
       "        vertical-align: middle;\n",
       "    }\n",
       "\n",
       "    .dataframe tbody tr th {\n",
       "        vertical-align: top;\n",
       "    }\n",
       "\n",
       "    .dataframe thead th {\n",
       "        text-align: right;\n",
       "    }\n",
       "</style>\n",
       "<table border=\"1\" class=\"dataframe\">\n",
       "  <thead>\n",
       "    <tr style=\"text-align: right;\">\n",
       "      <th></th>\n",
       "      <th>0</th>\n",
       "      <th>1</th>\n",
       "      <th>2</th>\n",
       "      <th>3</th>\n",
       "      <th>4</th>\n",
       "      <th>5</th>\n",
       "      <th>6</th>\n",
       "      <th>7</th>\n",
       "      <th>8</th>\n",
       "      <th>9</th>\n",
       "      <th>10</th>\n",
       "      <th>11</th>\n",
       "      <th>12</th>\n",
       "      <th>13</th>\n",
       "    </tr>\n",
       "  </thead>\n",
       "  <tbody>\n",
       "    <tr>\n",
       "      <th>0</th>\n",
       "      <td>ECK120015994</td>\n",
       "      <td>AcrR</td>\n",
       "      <td>ECK125258528</td>\n",
       "      <td>485709</td>\n",
       "      <td>485732</td>\n",
       "      <td>reverse</td>\n",
       "      <td>ECK120033472</td>\n",
       "      <td>acrAB</td>\n",
       "      <td>-</td>\n",
       "      <td>acrAp</td>\n",
       "      <td>-22.5</td>\n",
       "      <td>gcgttagattTACATACATTTGTGAATGTATGTAccatagcacg</td>\n",
       "      <td>[BCE|W|Binding of cellular extracts],[GEA|W|Ge...</td>\n",
       "      <td>Strong</td>\n",
       "    </tr>\n",
       "    <tr>\n",
       "      <th>1</th>\n",
       "      <td>ECK120015994</td>\n",
       "      <td>AcrR</td>\n",
       "      <td>ECK125258528</td>\n",
       "      <td>485709</td>\n",
       "      <td>485732</td>\n",
       "      <td>forward</td>\n",
       "      <td>ECK125134945</td>\n",
       "      <td>acrR</td>\n",
       "      <td>-</td>\n",
       "      <td>acrRp</td>\n",
       "      <td>22.5</td>\n",
       "      <td>cgtgctatggTACATACATTCACAAATGTATGTAaatctaacgc</td>\n",
       "      <td>[BCE|W|Binding of cellular extracts],[GEA|W|Ge...</td>\n",
       "      <td>Strong</td>\n",
       "    </tr>\n",
       "    <tr>\n",
       "      <th>2</th>\n",
       "      <td>ECK120015994</td>\n",
       "      <td>AcrR</td>\n",
       "      <td>ECK125202663</td>\n",
       "      <td>1619048</td>\n",
       "      <td>1619058</td>\n",
       "      <td>forward</td>\n",
       "      <td>ECK125202664</td>\n",
       "      <td>marRAB</td>\n",
       "      <td>-</td>\n",
       "      <td>marRp</td>\n",
       "      <td>-40.5</td>\n",
       "      <td>catcggtcaaTTCATTCATTTgacttatact</td>\n",
       "      <td>[GEA|W|Gene expression analysis],[BPP|S|Bindin...</td>\n",
       "      <td>Strong</td>\n",
       "    </tr>\n",
       "    <tr>\n",
       "      <th>3</th>\n",
       "      <td>ECK120015994</td>\n",
       "      <td>AcrR</td>\n",
       "      <td>ECK125242724</td>\n",
       "      <td>1978422</td>\n",
       "      <td>1978432</td>\n",
       "      <td>reverse</td>\n",
       "      <td>ECK125242725</td>\n",
       "      <td>flhDC</td>\n",
       "      <td>-</td>\n",
       "      <td>flhDp</td>\n",
       "      <td>-31.5</td>\n",
       "      <td>agcccccctcCGTTGTATGTGcgtgtagtga</td>\n",
       "      <td>[GEA|W|Gene expression analysis],[HIBSCS|W|Hum...</td>\n",
       "      <td>Weak</td>\n",
       "    </tr>\n",
       "    <tr>\n",
       "      <th>4</th>\n",
       "      <td>ECK120015994</td>\n",
       "      <td>AcrR</td>\n",
       "      <td>ECK120035040</td>\n",
       "      <td>2313112</td>\n",
       "      <td>2313135</td>\n",
       "      <td>forward</td>\n",
       "      <td>ECK120035041</td>\n",
       "      <td>micF</td>\n",
       "      <td>-</td>\n",
       "      <td>micFp</td>\n",
       "      <td>41.0</td>\n",
       "      <td>atttattaccGTCATTCATTTCTGAATGTCTGTTtacccctatt</td>\n",
       "      <td>[AIBSCS|W|Automated inference based on similar...</td>\n",
       "      <td>Weak</td>\n",
       "    </tr>\n",
       "  </tbody>\n",
       "</table>\n",
       "</div>"
      ],
      "text/plain": [
       "             0     1             2        3        4        5             6   \\\n",
       "0  ECK120015994  AcrR  ECK125258528   485709   485732  reverse  ECK120033472   \n",
       "1  ECK120015994  AcrR  ECK125258528   485709   485732  forward  ECK125134945   \n",
       "2  ECK120015994  AcrR  ECK125202663  1619048  1619058  forward  ECK125202664   \n",
       "3  ECK120015994  AcrR  ECK125242724  1978422  1978432  reverse  ECK125242725   \n",
       "4  ECK120015994  AcrR  ECK120035040  2313112  2313135  forward  ECK120035041   \n",
       "\n",
       "       7  8      9     10                                            11  \\\n",
       "0   acrAB  -  acrAp -22.5  gcgttagattTACATACATTTGTGAATGTATGTAccatagcacg   \n",
       "1    acrR  -  acrRp  22.5  cgtgctatggTACATACATTCACAAATGTATGTAaatctaacgc   \n",
       "2  marRAB  -  marRp -40.5               catcggtcaaTTCATTCATTTgacttatact   \n",
       "3   flhDC  -  flhDp -31.5               agcccccctcCGTTGTATGTGcgtgtagtga   \n",
       "4    micF  -  micFp  41.0  atttattaccGTCATTCATTTCTGAATGTCTGTTtacccctatt   \n",
       "\n",
       "                                                  12      13  \n",
       "0  [BCE|W|Binding of cellular extracts],[GEA|W|Ge...  Strong  \n",
       "1  [BCE|W|Binding of cellular extracts],[GEA|W|Ge...  Strong  \n",
       "2  [GEA|W|Gene expression analysis],[BPP|S|Bindin...  Strong  \n",
       "3  [GEA|W|Gene expression analysis],[HIBSCS|W|Hum...    Weak  \n",
       "4  [AIBSCS|W|Automated inference based on similar...    Weak  "
      ]
     },
     "execution_count": 5,
     "metadata": {},
     "output_type": "execute_result"
    }
   ],
   "source": [
    "# To parse this file, use Pandas's method read_csv. \n",
    "# We pass the name of this file, as well as other keyword arguments:\n",
    "#     sep='\\t': columns are delimited by tabs\n",
    "#     comment='#': ignore rows that begin with this\n",
    "#     header=None: the first row is NOT the name of the columns\n",
    "# The results are stored as an object known as a dataframe\n",
    "df = pd.read_csv(\"old_BindingSiteSet.txt\", \n",
    "                 sep='\\t', \n",
    "                 comment='#', \n",
    "                 header=None)\n",
    "\n",
    "# Tells us that we're working with a DataFrame object\n",
    "print(type(df))\n",
    "\n",
    "# To check that the data has been properly loaded, call the method df.head()\n",
    "df.head()"
   ]
  },
  {
   "cell_type": "code",
   "execution_count": 6,
   "metadata": {
    "ExecuteTime": {
     "end_time": "2022-08-30T19:26:25.451440Z",
     "start_time": "2022-08-30T19:26:25.447638Z"
    }
   },
   "outputs": [
    {
     "data": {
      "text/plain": [
       "(3674, 14)"
      ]
     },
     "execution_count": 6,
     "metadata": {},
     "output_type": "execute_result"
    }
   ],
   "source": [
    "# You get the number of rows and columns from the attribute df.shape\n",
    "df.shape"
   ]
  },
  {
   "cell_type": "code",
   "execution_count": 8,
   "metadata": {
    "ExecuteTime": {
     "end_time": "2022-08-30T19:29:20.379732Z",
     "start_time": "2022-08-30T19:29:20.366265Z"
    }
   },
   "outputs": [
    {
     "data": {
      "text/html": [
       "<div>\n",
       "<style scoped>\n",
       "    .dataframe tbody tr th:only-of-type {\n",
       "        vertical-align: middle;\n",
       "    }\n",
       "\n",
       "    .dataframe tbody tr th {\n",
       "        vertical-align: top;\n",
       "    }\n",
       "\n",
       "    .dataframe thead th {\n",
       "        text-align: right;\n",
       "    }\n",
       "</style>\n",
       "<table border=\"1\" class=\"dataframe\">\n",
       "  <thead>\n",
       "    <tr style=\"text-align: right;\">\n",
       "      <th></th>\n",
       "      <th>1</th>\n",
       "      <th>11</th>\n",
       "    </tr>\n",
       "  </thead>\n",
       "  <tbody>\n",
       "    <tr>\n",
       "      <th>0</th>\n",
       "      <td>AcrR</td>\n",
       "      <td>gcgttagattTACATACATTTGTGAATGTATGTAccatagcacg</td>\n",
       "    </tr>\n",
       "    <tr>\n",
       "      <th>1</th>\n",
       "      <td>AcrR</td>\n",
       "      <td>cgtgctatggTACATACATTCACAAATGTATGTAaatctaacgc</td>\n",
       "    </tr>\n",
       "    <tr>\n",
       "      <th>2</th>\n",
       "      <td>AcrR</td>\n",
       "      <td>catcggtcaaTTCATTCATTTgacttatact</td>\n",
       "    </tr>\n",
       "    <tr>\n",
       "      <th>3</th>\n",
       "      <td>AcrR</td>\n",
       "      <td>agcccccctcCGTTGTATGTGcgtgtagtga</td>\n",
       "    </tr>\n",
       "    <tr>\n",
       "      <th>4</th>\n",
       "      <td>AcrR</td>\n",
       "      <td>atttattaccGTCATTCATTTCTGAATGTCTGTTtacccctatt</td>\n",
       "    </tr>\n",
       "  </tbody>\n",
       "</table>\n",
       "</div>"
      ],
      "text/plain": [
       "     1                                             11\n",
       "0  AcrR  gcgttagattTACATACATTTGTGAATGTATGTAccatagcacg\n",
       "1  AcrR  cgtgctatggTACATACATTCACAAATGTATGTAaatctaacgc\n",
       "2  AcrR               catcggtcaaTTCATTCATTTgacttatact\n",
       "3  AcrR               agcccccctcCGTTGTATGTGcgtgtagtga\n",
       "4  AcrR  atttattaccGTCATTCATTTCTGAATGTCTGTTtacccctatt"
      ]
     },
     "execution_count": 8,
     "metadata": {},
     "output_type": "execute_result"
    }
   ],
   "source": [
    "# We only want the TF name (column 1) and the TF binding site sequence (column 13)\n",
    "# To keep only these columns, index the df using a list of column names you want (in the order you want)\n",
    "col_names = [1,11]\n",
    "df = df[col_names]\n",
    "df.head()"
   ]
  },
  {
   "cell_type": "code",
   "execution_count": 9,
   "metadata": {
    "ExecuteTime": {
     "end_time": "2022-08-30T19:30:10.928325Z",
     "start_time": "2022-08-30T19:30:10.918484Z"
    }
   },
   "outputs": [
    {
     "data": {
      "text/html": [
       "<div>\n",
       "<style scoped>\n",
       "    .dataframe tbody tr th:only-of-type {\n",
       "        vertical-align: middle;\n",
       "    }\n",
       "\n",
       "    .dataframe tbody tr th {\n",
       "        vertical-align: top;\n",
       "    }\n",
       "\n",
       "    .dataframe thead th {\n",
       "        text-align: right;\n",
       "    }\n",
       "</style>\n",
       "<table border=\"1\" class=\"dataframe\">\n",
       "  <thead>\n",
       "    <tr style=\"text-align: right;\">\n",
       "      <th></th>\n",
       "      <th>tf</th>\n",
       "      <th>site</th>\n",
       "    </tr>\n",
       "  </thead>\n",
       "  <tbody>\n",
       "    <tr>\n",
       "      <th>3669</th>\n",
       "      <td>ZraR</td>\n",
       "      <td>gctgcgggtaGCGAGTCATTTTTACTCattgaaactt</td>\n",
       "    </tr>\n",
       "    <tr>\n",
       "      <th>3670</th>\n",
       "      <td>Zur</td>\n",
       "      <td>gtatctttatGGTTATGTTATAACATAACAGGTAaaaatgatga</td>\n",
       "    </tr>\n",
       "    <tr>\n",
       "      <th>3671</th>\n",
       "      <td>Zur</td>\n",
       "      <td>atgaatatgaGAAGTGTGATATTATAACATTTCAtgactactgc</td>\n",
       "    </tr>\n",
       "    <tr>\n",
       "      <th>3672</th>\n",
       "      <td>Zur</td>\n",
       "      <td>gcagtagtcaTGAAATGTTATAATATCACACTTCtcatattcat</td>\n",
       "    </tr>\n",
       "    <tr>\n",
       "      <th>3673</th>\n",
       "      <td>Zur</td>\n",
       "      <td>tgcattttgcTATATGTTACAATATAACATTACacatcatata</td>\n",
       "    </tr>\n",
       "  </tbody>\n",
       "</table>\n",
       "</div>"
      ],
      "text/plain": [
       "        tf                                          site\n",
       "3669  ZraR         gctgcgggtaGCGAGTCATTTTTACTCattgaaactt\n",
       "3670   Zur  gtatctttatGGTTATGTTATAACATAACAGGTAaaaatgatga\n",
       "3671   Zur  atgaatatgaGAAGTGTGATATTATAACATTTCAtgactactgc\n",
       "3672   Zur  gcagtagtcaTGAAATGTTATAATATCACACTTCtcatattcat\n",
       "3673   Zur   tgcattttgcTATATGTTACAATATAACATTACacatcatata"
      ]
     },
     "execution_count": 9,
     "metadata": {},
     "output_type": "execute_result"
    }
   ],
   "source": [
    "# Data frames allow users to give columns meaningful names.\n",
    "# To rename the columns, set df.columns to a list of the desired names.\n",
    "df.columns = ['tf','site']\n",
    "df.tail()"
   ]
  },
  {
   "cell_type": "code",
   "execution_count": 10,
   "metadata": {
    "ExecuteTime": {
     "end_time": "2022-08-30T19:30:45.431835Z",
     "start_time": "2022-08-30T19:30:45.410199Z"
    }
   },
   "outputs": [
    {
     "data": {
      "text/html": [
       "<div>\n",
       "<style scoped>\n",
       "    .dataframe tbody tr th:only-of-type {\n",
       "        vertical-align: middle;\n",
       "    }\n",
       "\n",
       "    .dataframe tbody tr th {\n",
       "        vertical-align: top;\n",
       "    }\n",
       "\n",
       "    .dataframe thead th {\n",
       "        text-align: right;\n",
       "    }\n",
       "</style>\n",
       "<table border=\"1\" class=\"dataframe\">\n",
       "  <thead>\n",
       "    <tr style=\"text-align: right;\">\n",
       "      <th></th>\n",
       "      <th>tf</th>\n",
       "      <th>site</th>\n",
       "    </tr>\n",
       "  </thead>\n",
       "  <tbody>\n",
       "    <tr>\n",
       "      <th>0</th>\n",
       "      <td>AcrR</td>\n",
       "      <td>gcgttagattTACATACATTTGTGAATGTATGTAccatagcacg</td>\n",
       "    </tr>\n",
       "    <tr>\n",
       "      <th>1</th>\n",
       "      <td>AcrR</td>\n",
       "      <td>cgtgctatggTACATACATTCACAAATGTATGTAaatctaacgc</td>\n",
       "    </tr>\n",
       "    <tr>\n",
       "      <th>2</th>\n",
       "      <td>AcrR</td>\n",
       "      <td>catcggtcaaTTCATTCATTTgacttatact</td>\n",
       "    </tr>\n",
       "    <tr>\n",
       "      <th>3</th>\n",
       "      <td>AcrR</td>\n",
       "      <td>agcccccctcCGTTGTATGTGcgtgtagtga</td>\n",
       "    </tr>\n",
       "    <tr>\n",
       "      <th>4</th>\n",
       "      <td>AcrR</td>\n",
       "      <td>atttattaccGTCATTCATTTCTGAATGTCTGTTtacccctatt</td>\n",
       "    </tr>\n",
       "  </tbody>\n",
       "</table>\n",
       "</div>"
      ],
      "text/plain": [
       "     tf                                          site\n",
       "0  AcrR  gcgttagattTACATACATTTGTGAATGTATGTAccatagcacg\n",
       "1  AcrR  cgtgctatggTACATACATTCACAAATGTATGTAaatctaacgc\n",
       "2  AcrR               catcggtcaaTTCATTCATTTgacttatact\n",
       "3  AcrR               agcccccctcCGTTGTATGTGcgtgtagtga\n",
       "4  AcrR  atttattaccGTCATTCATTTCTGAATGTCTGTTtacccctatt"
      ]
     },
     "execution_count": 10,
     "metadata": {},
     "output_type": "execute_result"
    }
   ],
   "source": [
    "# Note that the last two modifications of df can be accomplished in one line \n",
    "df = pd.read_csv(\"old_BindingSiteSet.txt\", \n",
    "                 sep='\\t', \n",
    "                 comment='#',\n",
    "                 header=None, \n",
    "                 usecols=[1,11], \n",
    "                 names=['tf','site'])\n",
    "df.head()"
   ]
  },
  {
   "cell_type": "code",
   "execution_count": 7,
   "metadata": {
    "ExecuteTime": {
     "end_time": "2022-08-30T19:27:36.053402Z",
     "start_time": "2022-08-30T19:27:35.997308Z"
    }
   },
   "outputs": [],
   "source": [
    "# Check out the pd.read_csv() documentation for a full list\n",
    "pd.read_csv?"
   ]
  },
  {
   "cell_type": "code",
   "execution_count": 11,
   "metadata": {
    "ExecuteTime": {
     "end_time": "2022-08-30T19:32:48.058581Z",
     "start_time": "2022-08-30T19:32:48.052705Z"
    }
   },
   "outputs": [
    {
     "name": "stdout",
     "output_type": "stream",
     "text": [
      "<class 'pandas.core.series.Series'>\n"
     ]
    },
    {
     "data": {
      "text/plain": [
       "0    AcrR\n",
       "1    AcrR\n",
       "2    AcrR\n",
       "3    AcrR\n",
       "4    AcrR\n",
       "Name: tf, dtype: object"
      ]
     },
     "execution_count": 11,
     "metadata": {},
     "output_type": "execute_result"
    }
   ],
   "source": [
    "# Dataframe columns are called 'Series' objects. \n",
    "# Essentially, they're numpy arrays with some extra sugar.\n",
    "col = df['tf']\n",
    "print(type(col))\n",
    "col.head()"
   ]
  },
  {
   "cell_type": "code",
   "execution_count": 12,
   "metadata": {
    "ExecuteTime": {
     "end_time": "2022-08-30T19:34:08.455683Z",
     "start_time": "2022-08-30T19:34:08.451361Z"
    }
   },
   "outputs": [
    {
     "data": {
      "text/plain": [
       "'agcccccctcCGTTGTATGTGcgtgtagtga'"
      ]
     },
     "execution_count": 12,
     "metadata": {},
     "output_type": "execute_result"
    }
   ],
   "source": [
    "# You can extract an element from a dataframe by using .loc[]\n",
    "df.loc[3,'site']"
   ]
  },
  {
   "cell_type": "markdown",
   "metadata": {},
   "source": [
    "Our goal is to generate sequence logos that represents the binding preferences of TFs in this database.  As a concrete example we'll use CRP, which has a well-characterized binding motif shown here:\n",
    "\n",
    "<img src=\"crp_information_logo.png\" alt=\"Drawing\" style=\"width: 700px;\"/>"
   ]
  },
  {
   "cell_type": "code",
   "execution_count": 15,
   "metadata": {
    "ExecuteTime": {
     "end_time": "2022-08-30T19:38:46.365511Z",
     "start_time": "2022-08-30T19:38:46.352491Z"
    }
   },
   "outputs": [
    {
     "data": {
      "text/html": [
       "<div>\n",
       "<style scoped>\n",
       "    .dataframe tbody tr th:only-of-type {\n",
       "        vertical-align: middle;\n",
       "    }\n",
       "\n",
       "    .dataframe tbody tr th {\n",
       "        vertical-align: top;\n",
       "    }\n",
       "\n",
       "    .dataframe thead th {\n",
       "        text-align: right;\n",
       "    }\n",
       "</style>\n",
       "<table border=\"1\" class=\"dataframe\">\n",
       "  <thead>\n",
       "    <tr style=\"text-align: right;\">\n",
       "      <th></th>\n",
       "      <th>tf</th>\n",
       "      <th>site</th>\n",
       "    </tr>\n",
       "  </thead>\n",
       "  <tbody>\n",
       "    <tr>\n",
       "      <th>0</th>\n",
       "      <td>CRP</td>\n",
       "      <td>NaN</td>\n",
       "    </tr>\n",
       "    <tr>\n",
       "      <th>1</th>\n",
       "      <td>CRP</td>\n",
       "      <td>NaN</td>\n",
       "    </tr>\n",
       "    <tr>\n",
       "      <th>2</th>\n",
       "      <td>CRP</td>\n",
       "      <td>NaN</td>\n",
       "    </tr>\n",
       "    <tr>\n",
       "      <th>3</th>\n",
       "      <td>CRP</td>\n",
       "      <td>NaN</td>\n",
       "    </tr>\n",
       "    <tr>\n",
       "      <th>4</th>\n",
       "      <td>CRP</td>\n",
       "      <td>NaN</td>\n",
       "    </tr>\n",
       "    <tr>\n",
       "      <th>5</th>\n",
       "      <td>CRP</td>\n",
       "      <td>NaN</td>\n",
       "    </tr>\n",
       "    <tr>\n",
       "      <th>6</th>\n",
       "      <td>CRP</td>\n",
       "      <td>NaN</td>\n",
       "    </tr>\n",
       "    <tr>\n",
       "      <th>7</th>\n",
       "      <td>CRP</td>\n",
       "      <td>NaN</td>\n",
       "    </tr>\n",
       "    <tr>\n",
       "      <th>8</th>\n",
       "      <td>CRP</td>\n",
       "      <td>NaN</td>\n",
       "    </tr>\n",
       "    <tr>\n",
       "      <th>9</th>\n",
       "      <td>CRP</td>\n",
       "      <td>NaN</td>\n",
       "    </tr>\n",
       "    <tr>\n",
       "      <th>10</th>\n",
       "      <td>CRP</td>\n",
       "      <td>NaN</td>\n",
       "    </tr>\n",
       "    <tr>\n",
       "      <th>11</th>\n",
       "      <td>CRP</td>\n",
       "      <td>NaN</td>\n",
       "    </tr>\n",
       "    <tr>\n",
       "      <th>12</th>\n",
       "      <td>CRP</td>\n",
       "      <td>ttgatgacatAAGCAGGATTTAGCTCACACTTatcgacggtg</td>\n",
       "    </tr>\n",
       "    <tr>\n",
       "      <th>13</th>\n",
       "      <td>CRP</td>\n",
       "      <td>acccgaaacaAAAATGTGATACCAATCACAGAAtacagcttat</td>\n",
       "    </tr>\n",
       "    <tr>\n",
       "      <th>14</th>\n",
       "      <td>CRP</td>\n",
       "      <td>gactttcaatATTGGTGATCCATAAAACAATAttgaaaattt</td>\n",
       "    </tr>\n",
       "    <tr>\n",
       "      <th>15</th>\n",
       "      <td>CRP</td>\n",
       "      <td>tgttttcaatATTGGTGAGGAACTTAACAATAttgaaagttg</td>\n",
       "    </tr>\n",
       "    <tr>\n",
       "      <th>16</th>\n",
       "      <td>CRP</td>\n",
       "      <td>tccacattgaTTATTTGCACGGCGTCACACTTtgctatgcca</td>\n",
       "    </tr>\n",
       "    <tr>\n",
       "      <th>17</th>\n",
       "      <td>CRP</td>\n",
       "      <td>tggcatagcaAAGTGTGACGCCGTGCAAATAAtcaatgtgga</td>\n",
       "    </tr>\n",
       "    <tr>\n",
       "      <th>18</th>\n",
       "      <td>CRP</td>\n",
       "      <td>ttccccaactTTCTTCGTAACGCCTCGCAAATttcttgtctt</td>\n",
       "    </tr>\n",
       "    <tr>\n",
       "      <th>19</th>\n",
       "      <td>CRP</td>\n",
       "      <td>aggatctcctTATATGTGGTGCTAATACCCGGTtcagagtagc</td>\n",
       "    </tr>\n",
       "  </tbody>\n",
       "</table>\n",
       "</div>"
      ],
      "text/plain": [
       "     tf                                         site\n",
       "0   CRP                                          NaN\n",
       "1   CRP                                          NaN\n",
       "2   CRP                                          NaN\n",
       "3   CRP                                          NaN\n",
       "4   CRP                                          NaN\n",
       "5   CRP                                          NaN\n",
       "6   CRP                                          NaN\n",
       "7   CRP                                          NaN\n",
       "8   CRP                                          NaN\n",
       "9   CRP                                          NaN\n",
       "10  CRP                                          NaN\n",
       "11  CRP                                          NaN\n",
       "12  CRP   ttgatgacatAAGCAGGATTTAGCTCACACTTatcgacggtg\n",
       "13  CRP  acccgaaacaAAAATGTGATACCAATCACAGAAtacagcttat\n",
       "14  CRP   gactttcaatATTGGTGATCCATAAAACAATAttgaaaattt\n",
       "15  CRP   tgttttcaatATTGGTGAGGAACTTAACAATAttgaaagttg\n",
       "16  CRP   tccacattgaTTATTTGCACGGCGTCACACTTtgctatgcca\n",
       "17  CRP   tggcatagcaAAGTGTGACGCCGTGCAAATAAtcaatgtgga\n",
       "18  CRP   ttccccaactTTCTTCGTAACGCCTCGCAAATttcttgtctt\n",
       "19  CRP  aggatctcctTATATGTGGTGCTAATACCCGGTtcagagtagc"
      ]
     },
     "execution_count": 15,
     "metadata": {},
     "output_type": "execute_result"
    }
   ],
   "source": [
    "# Choose a TF\n",
    "tf = 'CRP'\n",
    "\n",
    "# Flag which rows in the dataframe have the correct TF name\n",
    "flags = (df['tf']==tf)\n",
    "\n",
    "# Grab those rows. To be safe use copy() to make sure that, if we\n",
    "# alter tf_df, df itself doesn't change\n",
    "tf_df = df[flags].copy().reset_index(drop=True)\n",
    "tf_df.head(20)"
   ]
  },
  {
   "cell_type": "code",
   "execution_count": 16,
   "metadata": {
    "ExecuteTime": {
     "end_time": "2022-08-30T19:39:10.684932Z",
     "start_time": "2022-08-30T19:39:10.675778Z"
    }
   },
   "outputs": [
    {
     "data": {
      "text/html": [
       "<div>\n",
       "<style scoped>\n",
       "    .dataframe tbody tr th:only-of-type {\n",
       "        vertical-align: middle;\n",
       "    }\n",
       "\n",
       "    .dataframe tbody tr th {\n",
       "        vertical-align: top;\n",
       "    }\n",
       "\n",
       "    .dataframe thead th {\n",
       "        text-align: right;\n",
       "    }\n",
       "</style>\n",
       "<table border=\"1\" class=\"dataframe\">\n",
       "  <thead>\n",
       "    <tr style=\"text-align: right;\">\n",
       "      <th></th>\n",
       "      <th>tf</th>\n",
       "      <th>site</th>\n",
       "    </tr>\n",
       "  </thead>\n",
       "  <tbody>\n",
       "    <tr>\n",
       "      <th>12</th>\n",
       "      <td>CRP</td>\n",
       "      <td>ttgatgacatAAGCAGGATTTAGCTCACACTTatcgacggtg</td>\n",
       "    </tr>\n",
       "    <tr>\n",
       "      <th>13</th>\n",
       "      <td>CRP</td>\n",
       "      <td>acccgaaacaAAAATGTGATACCAATCACAGAAtacagcttat</td>\n",
       "    </tr>\n",
       "    <tr>\n",
       "      <th>14</th>\n",
       "      <td>CRP</td>\n",
       "      <td>gactttcaatATTGGTGATCCATAAAACAATAttgaaaattt</td>\n",
       "    </tr>\n",
       "    <tr>\n",
       "      <th>15</th>\n",
       "      <td>CRP</td>\n",
       "      <td>tgttttcaatATTGGTGAGGAACTTAACAATAttgaaagttg</td>\n",
       "    </tr>\n",
       "    <tr>\n",
       "      <th>16</th>\n",
       "      <td>CRP</td>\n",
       "      <td>tccacattgaTTATTTGCACGGCGTCACACTTtgctatgcca</td>\n",
       "    </tr>\n",
       "  </tbody>\n",
       "</table>\n",
       "</div>"
      ],
      "text/plain": [
       "     tf                                         site\n",
       "12  CRP   ttgatgacatAAGCAGGATTTAGCTCACACTTatcgacggtg\n",
       "13  CRP  acccgaaacaAAAATGTGATACCAATCACAGAAtacagcttat\n",
       "14  CRP   gactttcaatATTGGTGATCCATAAAACAATAttgaaaattt\n",
       "15  CRP   tgttttcaatATTGGTGAGGAACTTAACAATAttgaaagttg\n",
       "16  CRP   tccacattgaTTATTTGCACGGCGTCACACTTtgctatgcca"
      ]
     },
     "execution_count": 16,
     "metadata": {},
     "output_type": "execute_result"
    }
   ],
   "source": [
    "# To get rid of rows with missing data, use dropna\n",
    "tf_df.dropna(inplace=True)\n",
    "tf_df.head()"
   ]
  },
  {
   "cell_type": "code",
   "execution_count": 17,
   "metadata": {
    "ExecuteTime": {
     "end_time": "2022-08-30T19:43:31.441020Z",
     "start_time": "2022-08-30T19:43:31.426991Z"
    }
   },
   "outputs": [
    {
     "data": {
      "text/html": [
       "<div>\n",
       "<style scoped>\n",
       "    .dataframe tbody tr th:only-of-type {\n",
       "        vertical-align: middle;\n",
       "    }\n",
       "\n",
       "    .dataframe tbody tr th {\n",
       "        vertical-align: top;\n",
       "    }\n",
       "\n",
       "    .dataframe thead th {\n",
       "        text-align: right;\n",
       "    }\n",
       "</style>\n",
       "<table border=\"1\" class=\"dataframe\">\n",
       "  <thead>\n",
       "    <tr style=\"text-align: right;\">\n",
       "      <th></th>\n",
       "      <th>tf</th>\n",
       "      <th>site</th>\n",
       "    </tr>\n",
       "  </thead>\n",
       "  <tbody>\n",
       "    <tr>\n",
       "      <th>12</th>\n",
       "      <td>CRP</td>\n",
       "      <td>TTGATGACATAAGCAGGATTTAGCTCACACTTATCGACGGTG</td>\n",
       "    </tr>\n",
       "    <tr>\n",
       "      <th>13</th>\n",
       "      <td>CRP</td>\n",
       "      <td>ACCCGAAACAAAAATGTGATACCAATCACAGAATACAGCTTAT</td>\n",
       "    </tr>\n",
       "    <tr>\n",
       "      <th>14</th>\n",
       "      <td>CRP</td>\n",
       "      <td>GACTTTCAATATTGGTGATCCATAAAACAATATTGAAAATTT</td>\n",
       "    </tr>\n",
       "    <tr>\n",
       "      <th>15</th>\n",
       "      <td>CRP</td>\n",
       "      <td>TGTTTTCAATATTGGTGAGGAACTTAACAATATTGAAAGTTG</td>\n",
       "    </tr>\n",
       "    <tr>\n",
       "      <th>16</th>\n",
       "      <td>CRP</td>\n",
       "      <td>TCCACATTGATTATTTGCACGGCGTCACACTTTGCTATGCCA</td>\n",
       "    </tr>\n",
       "  </tbody>\n",
       "</table>\n",
       "</div>"
      ],
      "text/plain": [
       "     tf                                         site\n",
       "12  CRP   TTGATGACATAAGCAGGATTTAGCTCACACTTATCGACGGTG\n",
       "13  CRP  ACCCGAAACAAAAATGTGATACCAATCACAGAATACAGCTTAT\n",
       "14  CRP   GACTTTCAATATTGGTGATCCATAAAACAATATTGAAAATTT\n",
       "15  CRP   TGTTTTCAATATTGGTGAGGAACTTAACAATATTGAAAGTTG\n",
       "16  CRP   TCCACATTGATTATTTGCACGGCGTCACACTTTGCTATGCCA"
      ]
     },
     "execution_count": 17,
     "metadata": {},
     "output_type": "execute_result"
    }
   ],
   "source": [
    "# Each DNA binding site should be capitalized.\n",
    "# To do this, we reset 'site' column of tf_df\n",
    "\n",
    "# Get list of capitalized sites and replace the 'site' column with this\n",
    "capitalized_sites = [site.upper() for site in tf_df['site']]\n",
    "tf_df['site'] = capitalized_sites\n",
    "tf_df.head()"
   ]
  },
  {
   "cell_type": "code",
   "execution_count": 18,
   "metadata": {
    "ExecuteTime": {
     "end_time": "2022-08-30T19:50:17.281082Z",
     "start_time": "2022-08-30T19:50:17.268731Z"
    }
   },
   "outputs": [
    {
     "data": {
      "text/html": [
       "<div>\n",
       "<style scoped>\n",
       "    .dataframe tbody tr th:only-of-type {\n",
       "        vertical-align: middle;\n",
       "    }\n",
       "\n",
       "    .dataframe tbody tr th {\n",
       "        vertical-align: top;\n",
       "    }\n",
       "\n",
       "    .dataframe thead th {\n",
       "        text-align: right;\n",
       "    }\n",
       "</style>\n",
       "<table border=\"1\" class=\"dataframe\">\n",
       "  <thead>\n",
       "    <tr style=\"text-align: right;\">\n",
       "      <th></th>\n",
       "      <th>tf</th>\n",
       "      <th>site</th>\n",
       "      <th>length</th>\n",
       "    </tr>\n",
       "  </thead>\n",
       "  <tbody>\n",
       "    <tr>\n",
       "      <th>12</th>\n",
       "      <td>CRP</td>\n",
       "      <td>TTGATGACATAAGCAGGATTTAGCTCACACTTATCGACGGTG</td>\n",
       "      <td>42</td>\n",
       "    </tr>\n",
       "    <tr>\n",
       "      <th>13</th>\n",
       "      <td>CRP</td>\n",
       "      <td>ACCCGAAACAAAAATGTGATACCAATCACAGAATACAGCTTAT</td>\n",
       "      <td>43</td>\n",
       "    </tr>\n",
       "    <tr>\n",
       "      <th>14</th>\n",
       "      <td>CRP</td>\n",
       "      <td>GACTTTCAATATTGGTGATCCATAAAACAATATTGAAAATTT</td>\n",
       "      <td>42</td>\n",
       "    </tr>\n",
       "    <tr>\n",
       "      <th>15</th>\n",
       "      <td>CRP</td>\n",
       "      <td>TGTTTTCAATATTGGTGAGGAACTTAACAATATTGAAAGTTG</td>\n",
       "      <td>42</td>\n",
       "    </tr>\n",
       "    <tr>\n",
       "      <th>16</th>\n",
       "      <td>CRP</td>\n",
       "      <td>TCCACATTGATTATTTGCACGGCGTCACACTTTGCTATGCCA</td>\n",
       "      <td>42</td>\n",
       "    </tr>\n",
       "  </tbody>\n",
       "</table>\n",
       "</div>"
      ],
      "text/plain": [
       "     tf                                         site  length\n",
       "12  CRP   TTGATGACATAAGCAGGATTTAGCTCACACTTATCGACGGTG      42\n",
       "13  CRP  ACCCGAAACAAAAATGTGATACCAATCACAGAATACAGCTTAT      43\n",
       "14  CRP   GACTTTCAATATTGGTGATCCATAAAACAATATTGAAAATTT      42\n",
       "15  CRP   TGTTTTCAATATTGGTGAGGAACTTAACAATATTGAAAGTTG      42\n",
       "16  CRP   TCCACATTGATTATTTGCACGGCGTCACACTTTGCTATGCCA      42"
      ]
     },
     "execution_count": 18,
     "metadata": {},
     "output_type": "execute_result"
    }
   ],
   "source": [
    "# In order to derive a motif, all sites we analyze need to be the same length.\n",
    "# It's good to check that this is actually the case.\n",
    "# We therefore add a column to tf_df listing the length of each site\n",
    "\n",
    "# Compute the length of each site and record this in a 'length' column\n",
    "site_lengths = [len(site) for site in tf_df['site']]\n",
    "tf_df['length'] = site_lengths\n",
    "tf_df.head()"
   ]
  },
  {
   "cell_type": "markdown",
   "metadata": {},
   "source": [
    "## Exercises, part 1"
   ]
  },
  {
   "cell_type": "markdown",
   "metadata": {},
   "source": [
    "**E4.1.** Extract the `length` column of `tf_df` as a Series object, then use the `value_counts()` method to get a new Series object that lists number of times each length occurs."
   ]
  },
  {
   "cell_type": "code",
   "execution_count": null,
   "metadata": {
    "ExecuteTime": {
     "end_time": "2021-09-01T12:52:25.101407Z",
     "start_time": "2021-09-01T12:52:25.097702Z"
    }
   },
   "outputs": [],
   "source": [
    "# Answer here"
   ]
  },
  {
   "cell_type": "markdown",
   "metadata": {},
   "source": [
    "**E4.2.** Apparently there are sites of a bunch of different lengths. Use the ```idxmax()``` method on the result above to determine which binding site length is most common."
   ]
  },
  {
   "cell_type": "code",
   "execution_count": null,
   "metadata": {
    "ExecuteTime": {
     "end_time": "2021-09-01T12:52:26.177090Z",
     "start_time": "2021-09-01T12:52:26.174604Z"
    }
   },
   "outputs": [],
   "source": [
    "# Answer here"
   ]
  },
  {
   "cell_type": "markdown",
   "metadata": {},
   "source": [
    "**E4.3.** Remove rows from `tf_df` that do not correspond to the most common length."
   ]
  },
  {
   "cell_type": "code",
   "execution_count": null,
   "metadata": {
    "ExecuteTime": {
     "end_time": "2021-09-01T12:52:26.943919Z",
     "start_time": "2021-09-01T12:52:26.941491Z"
    }
   },
   "outputs": [],
   "source": [
    "# Answer here"
   ]
  },
  {
   "cell_type": "markdown",
   "metadata": {},
   "source": [
    "## Part 2"
   ]
  },
  {
   "cell_type": "code",
   "execution_count": 19,
   "metadata": {
    "ExecuteTime": {
     "end_time": "2022-08-30T20:19:06.795142Z",
     "start_time": "2022-08-30T20:19:06.784838Z"
    }
   },
   "outputs": [
    {
     "data": {
      "text/html": [
       "<div>\n",
       "<style scoped>\n",
       "    .dataframe tbody tr th:only-of-type {\n",
       "        vertical-align: middle;\n",
       "    }\n",
       "\n",
       "    .dataframe tbody tr th {\n",
       "        vertical-align: top;\n",
       "    }\n",
       "\n",
       "    .dataframe thead th {\n",
       "        text-align: right;\n",
       "    }\n",
       "</style>\n",
       "<table border=\"1\" class=\"dataframe\">\n",
       "  <thead>\n",
       "    <tr style=\"text-align: right;\">\n",
       "      <th></th>\n",
       "      <th>tf</th>\n",
       "      <th>site</th>\n",
       "      <th>length</th>\n",
       "    </tr>\n",
       "  </thead>\n",
       "  <tbody>\n",
       "    <tr>\n",
       "      <th>12</th>\n",
       "      <td>CRP</td>\n",
       "      <td>TTGATGACATAAGCAGGATTTAGCTCACACTTATCGACGGTG</td>\n",
       "      <td>42</td>\n",
       "    </tr>\n",
       "    <tr>\n",
       "      <th>14</th>\n",
       "      <td>CRP</td>\n",
       "      <td>GACTTTCAATATTGGTGATCCATAAAACAATATTGAAAATTT</td>\n",
       "      <td>42</td>\n",
       "    </tr>\n",
       "    <tr>\n",
       "      <th>15</th>\n",
       "      <td>CRP</td>\n",
       "      <td>TGTTTTCAATATTGGTGAGGAACTTAACAATATTGAAAGTTG</td>\n",
       "      <td>42</td>\n",
       "    </tr>\n",
       "    <tr>\n",
       "      <th>16</th>\n",
       "      <td>CRP</td>\n",
       "      <td>TCCACATTGATTATTTGCACGGCGTCACACTTTGCTATGCCA</td>\n",
       "      <td>42</td>\n",
       "    </tr>\n",
       "    <tr>\n",
       "      <th>17</th>\n",
       "      <td>CRP</td>\n",
       "      <td>TGGCATAGCAAAGTGTGACGCCGTGCAAATAATCAATGTGGA</td>\n",
       "      <td>42</td>\n",
       "    </tr>\n",
       "  </tbody>\n",
       "</table>\n",
       "</div>"
      ],
      "text/plain": [
       "     tf                                        site  length\n",
       "12  CRP  TTGATGACATAAGCAGGATTTAGCTCACACTTATCGACGGTG      42\n",
       "14  CRP  GACTTTCAATATTGGTGATCCATAAAACAATATTGAAAATTT      42\n",
       "15  CRP  TGTTTTCAATATTGGTGAGGAACTTAACAATATTGAAAGTTG      42\n",
       "16  CRP  TCCACATTGATTATTTGCACGGCGTCACACTTTGCTATGCCA      42\n",
       "17  CRP  TGGCATAGCAAAGTGTGACGCCGTGCAAATAATCAATGTGGA      42"
      ]
     },
     "execution_count": 19,
     "metadata": {},
     "output_type": "execute_result"
    }
   ],
   "source": [
    "# The anwers to the above exercises in one cryptic line of code\n",
    "tf_df = tf_df[tf_df['length']==tf_df['length'].value_counts().idxmax()] \n",
    "tf_df.head()"
   ]
  },
  {
   "cell_type": "code",
   "execution_count": 20,
   "metadata": {
    "ExecuteTime": {
     "end_time": "2022-08-30T20:19:46.270883Z",
     "start_time": "2022-08-30T20:19:46.265262Z"
    }
   },
   "outputs": [
    {
     "data": {
      "text/plain": [
       "12    TTGATGACATAAGCAGGATTTAGCTCACACTTATCGACGGTG\n",
       "14    GACTTTCAATATTGGTGATCCATAAAACAATATTGAAAATTT\n",
       "15    TGTTTTCAATATTGGTGAGGAACTTAACAATATTGAAAGTTG\n",
       "16    TCCACATTGATTATTTGCACGGCGTCACACTTTGCTATGCCA\n",
       "17    TGGCATAGCAAAGTGTGACGCCGTGCAAATAATCAATGTGGA\n",
       "Name: site, dtype: object"
      ]
     },
     "execution_count": 20,
     "metadata": {},
     "output_type": "execute_result"
    }
   ],
   "source": [
    "# Now extract the 'site' column from tf_df\n",
    "sites = tf_df['site']\n",
    "sites.head()"
   ]
  },
  {
   "cell_type": "code",
   "execution_count": 22,
   "metadata": {
    "ExecuteTime": {
     "end_time": "2022-08-30T20:21:30.852886Z",
     "start_time": "2022-08-30T20:21:30.845649Z"
    }
   },
   "outputs": [],
   "source": [
    "logomaker.alignment_to_matrix?"
   ]
  },
  {
   "cell_type": "code",
   "execution_count": 21,
   "metadata": {
    "ExecuteTime": {
     "end_time": "2022-08-30T20:20:44.000354Z",
     "start_time": "2022-08-30T20:20:43.975259Z"
    }
   },
   "outputs": [
    {
     "data": {
      "text/html": [
       "<div>\n",
       "<style scoped>\n",
       "    .dataframe tbody tr th:only-of-type {\n",
       "        vertical-align: middle;\n",
       "    }\n",
       "\n",
       "    .dataframe tbody tr th {\n",
       "        vertical-align: top;\n",
       "    }\n",
       "\n",
       "    .dataframe thead th {\n",
       "        text-align: right;\n",
       "    }\n",
       "</style>\n",
       "<table border=\"1\" class=\"dataframe\">\n",
       "  <thead>\n",
       "    <tr style=\"text-align: right;\">\n",
       "      <th></th>\n",
       "      <th>A</th>\n",
       "      <th>C</th>\n",
       "      <th>G</th>\n",
       "      <th>T</th>\n",
       "    </tr>\n",
       "    <tr>\n",
       "      <th>pos</th>\n",
       "      <th></th>\n",
       "      <th></th>\n",
       "      <th></th>\n",
       "      <th></th>\n",
       "    </tr>\n",
       "  </thead>\n",
       "  <tbody>\n",
       "    <tr>\n",
       "      <th>0</th>\n",
       "      <td>97.0</td>\n",
       "      <td>54.0</td>\n",
       "      <td>47.0</td>\n",
       "      <td>114.0</td>\n",
       "    </tr>\n",
       "    <tr>\n",
       "      <th>1</th>\n",
       "      <td>82.0</td>\n",
       "      <td>69.0</td>\n",
       "      <td>56.0</td>\n",
       "      <td>105.0</td>\n",
       "    </tr>\n",
       "    <tr>\n",
       "      <th>2</th>\n",
       "      <td>97.0</td>\n",
       "      <td>62.0</td>\n",
       "      <td>68.0</td>\n",
       "      <td>85.0</td>\n",
       "    </tr>\n",
       "    <tr>\n",
       "      <th>3</th>\n",
       "      <td>84.0</td>\n",
       "      <td>65.0</td>\n",
       "      <td>76.0</td>\n",
       "      <td>87.0</td>\n",
       "    </tr>\n",
       "    <tr>\n",
       "      <th>4</th>\n",
       "      <td>88.0</td>\n",
       "      <td>70.0</td>\n",
       "      <td>73.0</td>\n",
       "      <td>81.0</td>\n",
       "    </tr>\n",
       "  </tbody>\n",
       "</table>\n",
       "</div>"
      ],
      "text/plain": [
       "        A     C     G      T\n",
       "pos                         \n",
       "0    97.0  54.0  47.0  114.0\n",
       "1    82.0  69.0  56.0  105.0\n",
       "2    97.0  62.0  68.0   85.0\n",
       "3    84.0  65.0  76.0   87.0\n",
       "4    88.0  70.0  73.0   81.0"
      ]
     },
     "execution_count": 21,
     "metadata": {},
     "output_type": "execute_result"
    }
   ],
   "source": [
    "# Using logomaker.alignment_to_matrix function, compute the number of times each base occurs at each position\n",
    "# Note that this returns a dataframe\n",
    "counts_mat = logomaker.alignment_to_matrix(sites)\n",
    "counts_mat.head()"
   ]
  },
  {
   "cell_type": "code",
   "execution_count": 23,
   "metadata": {
    "ExecuteTime": {
     "end_time": "2022-08-30T20:23:03.092944Z",
     "start_time": "2022-08-30T20:23:02.607552Z"
    }
   },
   "outputs": [
    {
     "data": {
      "text/plain": [
       "<logomaker.src.Logo.Logo at 0x13105c460>"
      ]
     },
     "execution_count": 23,
     "metadata": {},
     "output_type": "execute_result"
    },
    {
     "data": {
      "image/png": "[encoded data removed]",
      "text/plain": [
       "<Figure size 720x180 with 1 Axes>"
      ]
     },
     "metadata": {
      "needs_background": "light"
     },
     "output_type": "display_data"
    }
   ],
   "source": [
    "# This counts matrix can be visualized as a sequence logo\n",
    "logomaker.Logo(counts_mat)"
   ]
  },
  {
   "cell_type": "markdown",
   "metadata": {},
   "source": [
    "## Exercises, part 2"
   ]
  },
  {
   "cell_type": "markdown",
   "metadata": {},
   "source": [
    "**E4.4.** Counts logos shown above aren't what people use in publications. Rather, they typically use \"information\" logos, like the one shown earlier. By making use of the keyword argument  `to_type='information'` in the function `logomaker.alignment_to_matrix()`, create a CRP information logo."
   ]
  },
  {
   "cell_type": "code",
   "execution_count": null,
   "metadata": {
    "ExecuteTime": {
     "end_time": "2021-09-01T12:52:33.687350Z",
     "start_time": "2021-09-01T12:52:33.684829Z"
    }
   },
   "outputs": [],
   "source": [
    "# Answer here"
   ]
  },
  {
   "cell_type": "markdown",
   "metadata": {
    "collapsed": true
   },
   "source": [
    "**E4.5.** Again using the `value_counts()` method, determine how many binding sites there are for each transcription factor."
   ]
  },
  {
   "cell_type": "code",
   "execution_count": null,
   "metadata": {
    "ExecuteTime": {
     "end_time": "2021-09-01T12:52:34.100771Z",
     "start_time": "2021-09-01T12:52:34.097524Z"
    }
   },
   "outputs": [],
   "source": [
    "# Answer here"
   ]
  },
  {
   "cell_type": "markdown",
   "metadata": {},
   "source": [
    "**E4.6.** Fill out the function below so that the user can pass the name of any TF and get list of aligned sites back. Test that it works, e.g. on `tf='FNR'`, by getting a list of sites and making an information logo. Also test that it fails when it is supposed to."
   ]
  },
  {
   "cell_type": "code",
   "execution_count": null,
   "metadata": {
    "ExecuteTime": {
     "end_time": "2021-09-01T13:33:11.534204Z",
     "start_time": "2021-09-01T13:33:11.528889Z"
    }
   },
   "outputs": [],
   "source": [
    "# Now let's turn this into a function \n",
    "def get_tf_sites(tf):\n",
    "    \"\"\"\n",
    "    Fill in docstring here\n",
    "    \"\"\"\n",
    "   \n",
    "    # Load database\n",
    "    df = pd.read_csv(\"old_BindingSiteSet.txt\", \n",
    "                     sep='\\t', \n",
    "                     comment='#',\n",
    "                     header=None, \n",
    "                     usecols=[1,11], \n",
    "                     names=['tf','site'])\n",
    "    \n",
    "    # \n",
    "    # Fill in stuff here\n",
    "    # \n",
    "    \n",
    "    # Get sequence alignment and return it\n",
    "    return tf_df['site']\n"
   ]
  },
  {
   "cell_type": "code",
   "execution_count": null,
   "metadata": {},
   "outputs": [],
   "source": []
  }
 ],
 "metadata": {
  "kernelspec": {
   "display_name": "Python 3",
   "language": "python",
   "name": "python3"
  },
  "language_info": {
   "codemirror_mode": {
    "name": "ipython",
    "version": 3
   },
   "file_extension": ".py",
   "mimetype": "text/x-python",
   "name": "python",
   "nbconvert_exporter": "python",
   "pygments_lexer": "ipython3",
   "version": "3.9.2"
  },
  "varInspector": {
   "cols": {
    "lenName": 16,
    "lenType": 16,
    "lenVar": 40
   },
   "kernels_config": {
    "python": {
     "delete_cmd_postfix": "",
     "delete_cmd_prefix": "del ",
     "library": "var_list.py",
     "varRefreshCmd": "print(var_dic_list())"
    },
    "r": {
     "delete_cmd_postfix": ") ",
     "delete_cmd_prefix": "rm(",
     "library": "var_list.r",
     "varRefreshCmd": "cat(var_dic_list()) "
    }
   },
   "types_to_exclude": [
    "module",
    "function",
    "builtin_function_or_method",
    "instance",
    "_Feature"
   ],
   "window_display": false
  }
 },
 "nbformat": 4,
 "nbformat_minor": 1
}

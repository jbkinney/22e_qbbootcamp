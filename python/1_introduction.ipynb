{
 "cells": [
  {
   "cell_type": "markdown",
   "metadata": {},
   "source": [
    "# Notebook 1: Introduction"
   ]
  },
  {
   "cell_type": "markdown",
   "metadata": {},
   "source": [
    "## Welcome to Python"
   ]
  },
  {
   "cell_type": "markdown",
   "metadata": {},
   "source": [
    "In this course we will focus on the Python programming language. There are a number of reasons for this:\n",
    "\n",
    "**Python is one of the easiest languages to learn, to write, and to read.** More than almost any other programming language,  Python code looks like pseudocode. Many aspects of the language help to enforce clarity. There is also a set of convensions, called the [PEP 8 Style Guide](https://www.python.org/dev/peps/pep-0008/), that most programmers have adopted to make their code as clear as possible.\n",
    "\n",
    "**Python allows you to create new code fast**. It is designed to allow you to write programs as quickly and as painlessly as possible. One feature of Python that enables rapid prototyping is that it is an \"interpreted\" language: each line is executed by the Python interpreter one after the next. This is different than C, C++, or Java, which require that programs first be \"compiled\", i.e. translated in their entirety from code to byte code before they are run. \n",
    "\n",
    "**Python is very flexible.** With Python you can do image analysis, sequence analysis, exploratory data analysis, and create publication-quality figures. You can write small analysis scripts or write major software applications. You can use Python at the command line, within a Jupyter notebook (such as this), or within an interactive programming environment. My lab programs almost exclusively in Python in our day-to-day work. \n",
    "\n",
    "**Python is well-supported.** There is an enormous user base for Python. This means that a simlpe Google search  can usually answer any Python programming question you have. There are also a large number of mature 3rd party packages for a wide variety of tasks including image analysis, numerical computation, machine learning, statistics, and graphics. \n",
    "\n",
    "**Python skills are highly valued.** There is great demand for people who know Python, and that demand is rapidly increasing. This is true in both academic research and in industry. In particular, Python has become the de facto language of deep learning. "
   ]
  },
  {
   "cell_type": "markdown",
   "metadata": {},
   "source": [
    "The official python documentation page is https://www.python.org/. Lots of good documentation and tutorials can be found here. Another great resource for programmers is Stack Overflow at http://stackoverflow.com/. The best resource, however, is usually Google. Just google a question you have and the answer will likely be found in the first or second hit."
   ]
  },
  {
   "cell_type": "markdown",
   "metadata": {},
   "source": [
    "Note: The R language is also very popular in biology and statistics, and has a larger set of tools written for biological data analysis than does Python. We will not cover this language here, but once you learn Python it should be relatively easy to learn R. There is also a substantial amount of online material to help anyone interested in learning R (as well as Python). "
   ]
  },
  {
   "cell_type": "markdown",
   "metadata": {},
   "source": [
    "**Note: Python 2.7 (previously popular but now depreciated) is incompatible with Python 3+. We will use 3.8\n",
    "throughout. **"
   ]
  },
  {
   "cell_type": "markdown",
   "metadata": {},
   "source": [
    "## Jupyter notebooks"
   ]
  },
  {
   "cell_type": "markdown",
   "metadata": {},
   "source": [
    "This is a **Jupyter notebook**. You can learn more about these on the Jupyter project website, http://jupyter.org/. Jupyter notebooks provide a convenient interface to Python. They allow you to include fully functional Python code inside of a document that also contains markdown (i.e. text like this) and figures that show analysis results. This type of hybrid document provides a powerful method of interactive data anlysis. I encourage taking advantage of this. In fact I use Jupyter notebooks for most of my data analysis tasks. Only when I start writing production code do I switch over to more standard Python scripts. "
   ]
  },
  {
   "cell_type": "markdown",
   "metadata": {},
   "source": [
    "You can start a Jupyter notebook by typing this at the command line (indicated by the $ sign) an pressing enter:\n",
    "\n",
    "```\n",
    "$ jupyter notebook\n",
    "```\n",
    "\n"
   ]
  },
  {
   "cell_type": "markdown",
   "metadata": {},
   "source": [
    "## Markdown cells"
   ]
  },
  {
   "cell_type": "markdown",
   "metadata": {},
   "source": [
    "To create a markdown cell, Click the '+' button in the menue above. Then choose 'Markdown' from the drop-down menu."
   ]
  },
  {
   "cell_type": "markdown",
   "metadata": {},
   "source": [
    "Markdown is a simple yet powerful way of creating stylized text. For example, you can embed LaTeX code to create an equation:\n",
    "\n",
    "$$\\sin x =  \\sum_{n=0}^\\infty \\frac{(-1)^n x^{2n+1}}{(2n+1)!}$$\n",
    "\n",
    "You can add HTML, e.g. to embed images:\n",
    "\n",
    "<img src=\"cshl.jpg\" alt=\"Drawing\"  />\n",
    "\n",
    "Here is a [Markdown Cheat Sheet](https://github.com/adam-p/markdown-here/wiki/Markdown-Here-Cheatsheet) for reference."
   ]
  },
  {
   "cell_type": "markdown",
   "metadata": {},
   "source": [
    "## Code cells"
   ]
  },
  {
   "cell_type": "markdown",
   "metadata": {},
   "source": [
    "Code cells contain snippets of Python code that you can execute by pressing Shift+Enter. Here is a code cell illustrating this with a simple Hellow World program:"
   ]
  },
  {
   "cell_type": "code",
   "execution_count": null,
   "metadata": {
    "ExecuteTime": {
     "end_time": "2021-09-01T22:43:35.312346Z",
     "start_time": "2021-09-01T22:43:35.307999Z"
    }
   },
   "outputs": [],
   "source": [
    "print(\"Hello World!\") #The Hello World program!"
   ]
  },
  {
   "cell_type": "markdown",
   "metadata": {},
   "source": [
    "All but the most trivial uses of python usually require packages that must be imported. Some of the most common packages are `numpy`, `pandas`, and `matplotlib`. To import these, and to assign these packages useful aliases, execute the code below. Although it is not required, [PEP 8 recommends](https://www.python.org/dev/peps/pep-0008/#imports) that you do all package imports at the top of each Python document."
   ]
  },
  {
   "cell_type": "code",
   "execution_count": null,
   "metadata": {
    "ExecuteTime": {
     "end_time": "2021-09-01T22:43:37.038891Z",
     "start_time": "2021-09-01T22:43:36.735090Z"
    }
   },
   "outputs": [],
   "source": [
    "# First code cell\n",
    "import numpy as np               # numpy is the standard numerical computing package\n",
    "import pandas as pd              # pandas is the standard package for working with dataframes\n",
    "import matplotlib.pyplot as plt  # matplotlib is the standard plotting package"
   ]
  },
  {
   "cell_type": "markdown",
   "metadata": {},
   "source": [
    "Jupyter notebooks also have a variety of [magic commands](https://ipython.readthedocs.io/en/stable/interactive/magics.html). These are special built-in commands that being with a `%` sign. The one below causes `matplolib` (the primary Python plotting package, imported above) to insert plots into the notebook instead of in separate windows. I usually include this right under my imports."
   ]
  },
  {
   "cell_type": "code",
   "execution_count": null,
   "metadata": {
    "ExecuteTime": {
     "end_time": "2021-09-01T22:43:40.903020Z",
     "start_time": "2021-09-01T22:43:40.892679Z"
    }
   },
   "outputs": [],
   "source": [
    "%matplotlib inline"
   ]
  },
  {
   "cell_type": "markdown",
   "metadata": {},
   "source": [
    "Inline plotting is, I would argue, one of the most important features of Jupyter notebooks. It allows you to see Python code AND the graphical output of that code in the same place. For example,"
   ]
  },
  {
   "cell_type": "code",
   "execution_count": null,
   "metadata": {
    "ExecuteTime": {
     "end_time": "2021-09-01T22:43:42.681625Z",
     "start_time": "2021-09-01T22:43:42.574402Z"
    }
   },
   "outputs": [],
   "source": [
    "x = np.arange(-10,10,0.01)   # Creates an array of numbers from -10 to 10, with step size 0.01\n",
    "y = np.sin(x)                # Computes the sign of these numbers\n",
    "plt.plot(x,y)                # Plots y vs. x"
   ]
  },
  {
   "cell_type": "markdown",
   "metadata": {},
   "source": [
    "## Accessing the command line"
   ]
  },
  {
   "cell_type": "markdown",
   "metadata": {},
   "source": [
    "Warning: the commands in this section will only work in a POSIX operating systems such as Mac OS X, Linux, and Unix. They will not work in Windows. Here is a UNIX command line cheet sheet: http://web.cs.ucla.edu/~miryung/teaching/EE461L-Spring2012/labs/posix.html"
   ]
  },
  {
   "cell_type": "code",
   "execution_count": null,
   "metadata": {
    "ExecuteTime": {
     "end_time": "2021-09-01T22:43:44.285139Z",
     "start_time": "2021-09-01T22:43:44.146998Z"
    }
   },
   "outputs": [],
   "source": [
    "# List the files in the current directory\n",
    "!ls -lah"
   ]
  },
  {
   "cell_type": "code",
   "execution_count": null,
   "metadata": {
    "ExecuteTime": {
     "end_time": "2021-09-01T22:43:44.746922Z",
     "start_time": "2021-09-01T22:43:44.617357Z"
    }
   },
   "outputs": [],
   "source": [
    "# Display the contents of a file \n",
    "!cat hello_world.py"
   ]
  },
  {
   "cell_type": "code",
   "execution_count": null,
   "metadata": {
    "ExecuteTime": {
     "end_time": "2021-09-01T22:43:45.157017Z",
     "start_time": "2021-09-01T22:43:45.007447Z"
    }
   },
   "outputs": [],
   "source": [
    "# Run a Python script\n",
    "!python hello_world.py"
   ]
  },
  {
   "cell_type": "code",
   "execution_count": null,
   "metadata": {
    "ExecuteTime": {
     "end_time": "2021-09-01T22:43:47.604150Z",
     "start_time": "2021-09-01T22:43:45.819824Z"
    }
   },
   "outputs": [],
   "source": [
    "# Download a file (all annotated TF binding sites in E. coli)\n",
    "!curl \"http://regulondb.ccg.unam.mx/menu/download/datasets/files/BindingSiteSet.txt\" -o BindingSiteSet.txt\n",
    "\n",
    "# List files in directory    \n",
    "!ls -lah "
   ]
  },
  {
   "cell_type": "markdown",
   "metadata": {},
   "source": [
    "You can even install Python packages from within a Python notebook! To do this, use the `pip` command, which installs packages from [PyPI](https://pypi.org/). For example, the command below installs [`logomaker`](https://logomaker.readthedocs.io/en/latest/), a Python package that my lab recently developed. "
   ]
  },
  {
   "cell_type": "code",
   "execution_count": null,
   "metadata": {
    "ExecuteTime": {
     "end_time": "2021-09-01T22:43:48.857852Z",
     "start_time": "2021-09-01T22:43:48.135414Z"
    }
   },
   "outputs": [],
   "source": [
    "# Install a 3rd party Python packge\n",
    "!pip install logomaker"
   ]
  },
  {
   "cell_type": "markdown",
   "metadata": {},
   "source": [
    "## Exercises"
   ]
  },
  {
   "cell_type": "markdown",
   "metadata": {},
   "source": [
    "This course will include a variety of exercises to increase your Python skills. Note that the knowledge needed to complete each exercise will NOT necessarily have been presented or discussed. If you find yourself at sea, **the first thing you should do is Google your question.** This is how 99% of programming is done."
   ]
  },
  {
   "cell_type": "markdown",
   "metadata": {},
   "source": [
    "**E1.1**: Create a markdown cell containing a bulleted list, a numbred list, and a table."
   ]
  },
  {
   "cell_type": "code",
   "execution_count": null,
   "metadata": {
    "ExecuteTime": {
     "end_time": "2021-09-01T11:18:29.167739Z",
     "start_time": "2021-09-01T11:18:29.164996Z"
    }
   },
   "outputs": [],
   "source": [
    "# Write answer here"
   ]
  },
  {
   "cell_type": "markdown",
   "metadata": {},
   "source": [
    "**E1.2**: Plot $y = x^2$ and $y = e^x$ on the same plot, with $x$ ranging from -3 to 3."
   ]
  },
  {
   "cell_type": "code",
   "execution_count": null,
   "metadata": {
    "ExecuteTime": {
     "end_time": "2021-09-01T11:18:29.822964Z",
     "start_time": "2021-09-01T11:18:29.820627Z"
    }
   },
   "outputs": [],
   "source": [
    "# Write answer here"
   ]
  },
  {
   "cell_type": "markdown",
   "metadata": {},
   "source": [
    "**E1.3**: Using the command line, print the first 100 lines of the file `BindingSiteSet.txt`, then erase this file."
   ]
  },
  {
   "cell_type": "code",
   "execution_count": null,
   "metadata": {
    "ExecuteTime": {
     "end_time": "2021-09-01T11:18:30.778377Z",
     "start_time": "2021-09-01T11:18:30.775817Z"
    }
   },
   "outputs": [],
   "source": [
    "# Write answer here"
   ]
  }
 ],
 "metadata": {
  "kernelspec": {
   "display_name": "Python 3",
   "language": "python",
   "name": "python3"
  },
  "language_info": {
   "codemirror_mode": {
    "name": "ipython",
    "version": 3
   },
   "file_extension": ".py",
   "mimetype": "text/x-python",
   "name": "python",
   "nbconvert_exporter": "python",
   "pygments_lexer": "ipython3",
   "version": "3.9.2"
  },
  "varInspector": {
   "cols": {
    "lenName": 16,
    "lenType": 16,
    "lenVar": 40
   },
   "kernels_config": {
    "python": {
     "delete_cmd_postfix": "",
     "delete_cmd_prefix": "del ",
     "library": "var_list.py",
     "varRefreshCmd": "print(var_dic_list())"
    },
    "r": {
     "delete_cmd_postfix": ") ",
     "delete_cmd_prefix": "rm(",
     "library": "var_list.r",
     "varRefreshCmd": "cat(var_dic_list()) "
    }
   },
   "types_to_exclude": [
    "module",
    "function",
    "builtin_function_or_method",
    "instance",
    "_Feature"
   ],
   "window_display": false
  }
 },
 "nbformat": 4,
 "nbformat_minor": 1
}

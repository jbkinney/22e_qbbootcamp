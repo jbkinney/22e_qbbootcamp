{
 "cells": [
  {
   "cell_type": "markdown",
   "metadata": {},
   "source": [
    "# Notebook 7: Data visualization with Seaborn"
   ]
  },
  {
   "cell_type": "markdown",
   "metadata": {},
   "source": [
    "Here we will see how Seaborn can greatly speed up the visualization of data. Again we will work with Fisher's Iris dataset. "
   ]
  },
  {
   "cell_type": "code",
   "execution_count": null,
   "metadata": {
    "ExecuteTime": {
     "end_time": "2022-08-31T20:16:42.274142Z",
     "start_time": "2022-08-31T20:16:41.817259Z"
    }
   },
   "outputs": [],
   "source": [
    "# Load the standard libraries\n",
    "import numpy as np\n",
    "import pandas as pd\n",
    "import seaborn as sns\n",
    "import matplotlib.pyplot as plt\n",
    "%matplotlib inline\n",
    "\n",
    "# Set seaborn style\n",
    "sns.set_style('ticks')"
   ]
  },
  {
   "cell_type": "code",
   "execution_count": null,
   "metadata": {
    "ExecuteTime": {
     "end_time": "2022-08-31T20:17:08.255719Z",
     "start_time": "2022-08-31T20:17:08.233556Z"
    }
   },
   "outputs": [],
   "source": [
    "# Load Iris dataset\n",
    "df = sns.load_dataset('iris')\n",
    "df.head()"
   ]
  },
  {
   "cell_type": "markdown",
   "metadata": {
    "collapsed": true
   },
   "source": [
    "Suppose we want to make a bar chart showing the mean sepal length of each species. What do we need to do using standard Matplotlib?"
   ]
  },
  {
   "cell_type": "code",
   "execution_count": null,
   "metadata": {
    "ExecuteTime": {
     "end_time": "2022-08-31T20:21:22.206215Z",
     "start_time": "2022-08-31T20:21:22.194037Z"
    }
   },
   "outputs": [],
   "source": [
    "# First we need to get a list of mean values, one for each species\n",
    "means_df = df.groupby('species').mean()\n",
    "means_df"
   ]
  },
  {
   "cell_type": "code",
   "execution_count": null,
   "metadata": {
    "ExecuteTime": {
     "end_time": "2022-08-31T20:22:06.383024Z",
     "start_time": "2022-08-31T20:22:06.302523Z"
    }
   },
   "outputs": [],
   "source": [
    "# Get the heights\n",
    "heights = means_df.loc[:,'sepal_length']\n",
    "\n",
    "# Set the position\n",
    "xs = [0,1,2]\n",
    "\n",
    "# Set the colors\n",
    "colors = ['C0','C1','C2']\n",
    " \n",
    "# Plot\n",
    "plt.bar(x=xs, height=heights, color=colors)\n",
    "    \n",
    "# And set xticks and labels\n",
    "plt.xticks(xs, means_df.index)"
   ]
  },
  {
   "cell_type": "code",
   "execution_count": null,
   "metadata": {
    "ExecuteTime": {
     "end_time": "2022-08-31T20:26:13.063959Z",
     "start_time": "2022-08-31T20:26:12.954489Z"
    }
   },
   "outputs": [],
   "source": [
    "# Creating this plot is far easier with seaborn\n",
    "sns.barplot(data=df, y=\"sepal_length\", x=\"species\")"
   ]
  },
  {
   "cell_type": "code",
   "execution_count": null,
   "metadata": {
    "ExecuteTime": {
     "end_time": "2022-08-31T20:27:43.632200Z",
     "start_time": "2022-08-31T20:27:43.523844Z"
    }
   },
   "outputs": [],
   "source": [
    "# Make bar chart horizontal by switching x <-> y\n",
    "sns.barplot(data=df, x=\"sepal_length\", y=\"species\")"
   ]
  },
  {
   "cell_type": "code",
   "execution_count": null,
   "metadata": {
    "ExecuteTime": {
     "end_time": "2022-08-31T20:28:28.996527Z",
     "start_time": "2022-08-31T20:28:28.900673Z"
    }
   },
   "outputs": [],
   "source": [
    "# Create a box plot\n",
    "sns.boxplot(data=df, y=\"sepal_length\", x=\"species\")\n",
    "\n",
    "# Box plots are a bit strange\n",
    "#   Middle line = median\n",
    "#   Box = interquartile range (IQR)\n",
    "#   Bottom stem = 1st quartile - 1.5*IQR\n",
    "#   Top stem = 3rd quartile + 1.5*IQR\n",
    "#   Dots = outside stems = \"outliers\""
   ]
  },
  {
   "cell_type": "code",
   "execution_count": null,
   "metadata": {
    "ExecuteTime": {
     "end_time": "2022-08-31T20:29:37.999127Z",
     "start_time": "2022-08-31T20:29:37.902447Z"
    }
   },
   "outputs": [],
   "source": [
    "# Create a swarm plot\n",
    "sns.swarmplot(data=df, y=\"sepal_length\", x=\"species\")"
   ]
  },
  {
   "cell_type": "code",
   "execution_count": null,
   "metadata": {
    "ExecuteTime": {
     "end_time": "2022-08-31T20:30:10.260850Z",
     "start_time": "2022-08-31T20:30:10.172454Z"
    }
   },
   "outputs": [],
   "source": [
    "# Violin plot\n",
    "sns.violinplot(data=df, y=\"sepal_length\", x=\"species\", inner=\"quartile\")\n",
    "# Try inner = None, \"box\",\"quartile\", \"stick\""
   ]
  },
  {
   "cell_type": "code",
   "execution_count": null,
   "metadata": {
    "ExecuteTime": {
     "end_time": "2022-08-31T20:31:03.138268Z",
     "start_time": "2022-08-31T20:31:03.125056Z"
    }
   },
   "outputs": [],
   "source": [
    "# If we want to compare different lengths, we need to \"melt\" the data frame\n",
    "melt_df = df.melt(id_vars=\"species\")\n",
    "melt_df.head(10)"
   ]
  },
  {
   "cell_type": "code",
   "execution_count": null,
   "metadata": {
    "ExecuteTime": {
     "end_time": "2022-08-31T20:34:26.254257Z",
     "start_time": "2022-08-31T20:34:26.052144Z"
    }
   },
   "outputs": [],
   "source": [
    "# Separate by both species and variable\n",
    "plt.figure(figsize=[10,6])\n",
    "sns.barplot(data=melt_df, x=\"variable\", y=\"value\", hue=\"species\")"
   ]
  },
  {
   "cell_type": "code",
   "execution_count": null,
   "metadata": {
    "ExecuteTime": {
     "end_time": "2022-08-31T20:36:20.988712Z",
     "start_time": "2022-08-31T20:36:20.863958Z"
    }
   },
   "outputs": [],
   "source": [
    "# Show a scatter plot with different species in different hues\n",
    "sns.scatterplot(data=df, x=\"petal_length\", y=\"petal_width\", hue=\"species\")"
   ]
  },
  {
   "cell_type": "code",
   "execution_count": null,
   "metadata": {
    "ExecuteTime": {
     "end_time": "2022-08-31T20:44:57.826219Z",
     "start_time": "2022-08-31T20:44:57.322597Z"
    }
   },
   "outputs": [],
   "source": [
    "### Create a multi-panel figure\n",
    "\n",
    "# We need the \"gridspec\" functionality of matplotlib\n",
    "import matplotlib.gridspec as gridspec\n",
    "\n",
    "# Create a gridspec object. This will tell matplotlib where to position Axes\n",
    "gs = gridspec.GridSpec(1, 3)\n",
    "\n",
    "# Create a figure\n",
    "fig = plt.figure(figsize=[10,5])\n",
    "\n",
    "# Create an Axes spanning two columns\n",
    "ax = plt.subplot(gs[0, 0:2])\n",
    "\n",
    "# Draw a barplot on this Axes\n",
    "sns.barplot(data=melt_df, x=\"variable\", y=\"value\", hue=\"species\", ax=ax)\n",
    "ax.set_title('Bar chart')\n",
    "\n",
    "# Create an Axes in the third column\n",
    "ax = plt.subplot(gs[0, 2])\n",
    "\n",
    "# Draw a scatterplot on this Axes\n",
    "sns.scatterplot(data=df, x=\"petal_length\", y=\"petal_width\", hue=\"species\", ax=ax)\n",
    "ax.set_title('Scatter plot')\n",
    "\n",
    "# Add panel labes. Note that x and y are in Figure coordinates, not Axes coordinates\n",
    "fig.text(x=.01, y=.99, s='(A)', fontsize=20, horizontalalignment=\"left\", verticalalignment=\"top\")\n",
    "fig.text(x=.66, y=.99, s='(B)', fontsize=20, horizontalalignment=\"left\", verticalalignment=\"top\")\n",
    "\n",
    "# Adjust plot positions\n",
    "plt.tight_layout(pad=2)\n",
    "\n",
    "# Save figure\n",
    "file_name ='7_seaborn_1.png' \n",
    "plt.savefig(file_name)\n",
    "\n",
    "# Open figure in Preview\n",
    "!open $file_name"
   ]
  },
  {
   "cell_type": "markdown",
   "metadata": {},
   "source": [
    "It should be noted that seaborn is particularly good for data exploration, i.e., quickly surveying the structure of your data by making lots and lots of plots."
   ]
  },
  {
   "cell_type": "code",
   "execution_count": null,
   "metadata": {
    "ExecuteTime": {
     "end_time": "2022-08-31T20:46:32.446126Z",
     "start_time": "2022-08-31T20:46:31.074311Z"
    }
   },
   "outputs": [],
   "source": [
    "# Plot all pairwise variables against each other\n",
    "sns.pairplot(data=df, hue=\"species\")"
   ]
  },
  {
   "cell_type": "markdown",
   "metadata": {
    "collapsed": true
   },
   "source": [
    "# That's it! Thanks for participating, and see you next week."
   ]
  },
  {
   "cell_type": "code",
   "execution_count": null,
   "metadata": {},
   "outputs": [],
   "source": []
  }
 ],
 "metadata": {
  "kernelspec": {
   "display_name": "Python 3",
   "language": "python",
   "name": "python3"
  },
  "language_info": {
   "codemirror_mode": {
    "name": "ipython",
    "version": 3
   },
   "file_extension": ".py",
   "mimetype": "text/x-python",
   "name": "python",
   "nbconvert_exporter": "python",
   "pygments_lexer": "ipython3",
   "version": "3.9.2"
  },
  "varInspector": {
   "cols": {
    "lenName": 16,
    "lenType": 16,
    "lenVar": 40
   },
   "kernels_config": {
    "python": {
     "delete_cmd_postfix": "",
     "delete_cmd_prefix": "del ",
     "library": "var_list.py",
     "varRefreshCmd": "print(var_dic_list())"
    },
    "r": {
     "delete_cmd_postfix": ") ",
     "delete_cmd_prefix": "rm(",
     "library": "var_list.r",
     "varRefreshCmd": "cat(var_dic_list()) "
    }
   },
   "types_to_exclude": [
    "module",
    "function",
    "builtin_function_or_method",
    "instance",
    "_Feature"
   ],
   "window_display": false
  }
 },
 "nbformat": 4,
 "nbformat_minor": 2
}
